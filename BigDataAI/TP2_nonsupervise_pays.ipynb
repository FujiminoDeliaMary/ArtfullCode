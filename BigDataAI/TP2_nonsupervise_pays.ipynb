{
  "cells": [
    {
      "cell_type": "markdown",
      "metadata": {
        "id": "view-in-github",
        "colab_type": "text"
      },
      "source": [
        "<a href=\"https://colab.research.google.com/github/FujiminoDeliaMary/ArtfullCode/blob/main/BigDataAI/TP2_nonsupervise_pays.ipynb\" target=\"_parent\"><img src=\"https://colab.research.google.com/assets/colab-badge.svg\" alt=\"Open In Colab\"/></a>"
      ]
    },
    {
      "cell_type": "markdown",
      "metadata": {
        "id": "rLE3yvNcNNMA"
      },
      "source": [
        "# TP 2 : Réduction de dimensionnalité et clustering\n",
        "Importation des librairies"
      ]
    },
    {
      "cell_type": "code",
      "execution_count": 1,
      "metadata": {
        "colab": {
          "base_uri": "https://localhost:8080/"
        },
        "id": "WUiCHZFeNNMC",
        "outputId": "669f809a-c4f6-46df-ec0d-23b1218bd831"
      },
      "outputs": [
        {
          "output_type": "stream",
          "name": "stdout",
          "text": [
            "/content\n",
            "Numpy 1.26.4, Pandas 2.2.2\n"
          ]
        }
      ],
      "source": [
        "import numpy as np\n",
        "import pandas as pd\n",
        "from matplotlib import pyplot as plt\n",
        "import time\n",
        "\n",
        "# Vérification du dossier courant\n",
        "import os\n",
        "print(os.getcwd())\n",
        "\n",
        "np.set_printoptions(precision=3,suppress=True, threshold=5) # 3 décimales, pas de notation scientifique, affichage de 5 lignes\n",
        "print(f\"Numpy {np.__version__}, Pandas {pd.__version__}\")"
      ]
    },
    {
      "cell_type": "markdown",
      "metadata": {
        "id": "rHU_v3VHNNMD"
      },
      "source": [
        "# 1/ Réduction des dimensionnalité : PCA et Clustering"
      ]
    },
    {
      "cell_type": "markdown",
      "metadata": {
        "id": "XgMV3H7SNNMD"
      },
      "source": [
        "1.1 Charger le fichier world-data-2023 dans un dataframe. Afficher les 3 premières lignes."
      ]
    },
    {
      "cell_type": "code",
      "execution_count": 2,
      "metadata": {
        "colab": {
          "base_uri": "https://localhost:8080/",
          "height": 262
        },
        "id": "SDH-RrvLNNMD",
        "outputId": "c14584da-25d9-4b10-a30c-64d19c19463c"
      },
      "outputs": [
        {
          "output_type": "stream",
          "name": "stdout",
          "text": [
            "Mounted at /content/drive\n"
          ]
        },
        {
          "output_type": "execute_result",
          "data": {
            "text/plain": [
              "       Country Density\\n(P/Km2) Abbreviation Agricultural Land( %)  \\\n",
              "0  Afghanistan               60           AF                58.10%   \n",
              "1      Albania              105           AL                43.10%   \n",
              "2      Algeria               18           DZ                17.40%   \n",
              "\n",
              "  Land Area(Km2) Armed Forces size  Birth Rate  Calling Code  \\\n",
              "0        652,230           323,000       32.49          93.0   \n",
              "1         28,748             9,000       11.78         355.0   \n",
              "2      2,381,741           317,000       24.28         213.0   \n",
              "\n",
              "  Capital/Major City Co2-Emissions  ... Out of pocket health expenditure  \\\n",
              "0              Kabul         8,672  ...                           78.40%   \n",
              "1             Tirana         4,536  ...                           56.90%   \n",
              "2            Algiers       150,006  ...                           28.10%   \n",
              "\n",
              "  Physicians per thousand  Population  \\\n",
              "0                    0.28  38,041,754   \n",
              "1                    1.20   2,854,191   \n",
              "2                    1.72  43,053,054   \n",
              "\n",
              "   Population: Labor force participation (%) Tax revenue (%) Total tax rate  \\\n",
              "0                                     48.90%           9.30%         71.40%   \n",
              "1                                     55.70%          18.60%         36.60%   \n",
              "2                                     41.20%          37.20%         66.10%   \n",
              "\n",
              "  Unemployment rate Urban_population   Latitude  Longitude  \n",
              "0            11.12%        9,797,273  33.939110  67.709953  \n",
              "1            12.33%        1,747,593  41.153332  20.168331  \n",
              "2            11.70%       31,510,100  28.033886   1.659626  \n",
              "\n",
              "[3 rows x 35 columns]"
            ],
            "text/html": [
              "\n",
              "  <div id=\"df-84cd99e8-a28b-4362-aa1d-77e251146aa6\" class=\"colab-df-container\">\n",
              "    <div>\n",
              "<style scoped>\n",
              "    .dataframe tbody tr th:only-of-type {\n",
              "        vertical-align: middle;\n",
              "    }\n",
              "\n",
              "    .dataframe tbody tr th {\n",
              "        vertical-align: top;\n",
              "    }\n",
              "\n",
              "    .dataframe thead th {\n",
              "        text-align: right;\n",
              "    }\n",
              "</style>\n",
              "<table border=\"1\" class=\"dataframe\">\n",
              "  <thead>\n",
              "    <tr style=\"text-align: right;\">\n",
              "      <th></th>\n",
              "      <th>Country</th>\n",
              "      <th>Density\\n(P/Km2)</th>\n",
              "      <th>Abbreviation</th>\n",
              "      <th>Agricultural Land( %)</th>\n",
              "      <th>Land Area(Km2)</th>\n",
              "      <th>Armed Forces size</th>\n",
              "      <th>Birth Rate</th>\n",
              "      <th>Calling Code</th>\n",
              "      <th>Capital/Major City</th>\n",
              "      <th>Co2-Emissions</th>\n",
              "      <th>...</th>\n",
              "      <th>Out of pocket health expenditure</th>\n",
              "      <th>Physicians per thousand</th>\n",
              "      <th>Population</th>\n",
              "      <th>Population: Labor force participation (%)</th>\n",
              "      <th>Tax revenue (%)</th>\n",
              "      <th>Total tax rate</th>\n",
              "      <th>Unemployment rate</th>\n",
              "      <th>Urban_population</th>\n",
              "      <th>Latitude</th>\n",
              "      <th>Longitude</th>\n",
              "    </tr>\n",
              "  </thead>\n",
              "  <tbody>\n",
              "    <tr>\n",
              "      <th>0</th>\n",
              "      <td>Afghanistan</td>\n",
              "      <td>60</td>\n",
              "      <td>AF</td>\n",
              "      <td>58.10%</td>\n",
              "      <td>652,230</td>\n",
              "      <td>323,000</td>\n",
              "      <td>32.49</td>\n",
              "      <td>93.0</td>\n",
              "      <td>Kabul</td>\n",
              "      <td>8,672</td>\n",
              "      <td>...</td>\n",
              "      <td>78.40%</td>\n",
              "      <td>0.28</td>\n",
              "      <td>38,041,754</td>\n",
              "      <td>48.90%</td>\n",
              "      <td>9.30%</td>\n",
              "      <td>71.40%</td>\n",
              "      <td>11.12%</td>\n",
              "      <td>9,797,273</td>\n",
              "      <td>33.939110</td>\n",
              "      <td>67.709953</td>\n",
              "    </tr>\n",
              "    <tr>\n",
              "      <th>1</th>\n",
              "      <td>Albania</td>\n",
              "      <td>105</td>\n",
              "      <td>AL</td>\n",
              "      <td>43.10%</td>\n",
              "      <td>28,748</td>\n",
              "      <td>9,000</td>\n",
              "      <td>11.78</td>\n",
              "      <td>355.0</td>\n",
              "      <td>Tirana</td>\n",
              "      <td>4,536</td>\n",
              "      <td>...</td>\n",
              "      <td>56.90%</td>\n",
              "      <td>1.20</td>\n",
              "      <td>2,854,191</td>\n",
              "      <td>55.70%</td>\n",
              "      <td>18.60%</td>\n",
              "      <td>36.60%</td>\n",
              "      <td>12.33%</td>\n",
              "      <td>1,747,593</td>\n",
              "      <td>41.153332</td>\n",
              "      <td>20.168331</td>\n",
              "    </tr>\n",
              "    <tr>\n",
              "      <th>2</th>\n",
              "      <td>Algeria</td>\n",
              "      <td>18</td>\n",
              "      <td>DZ</td>\n",
              "      <td>17.40%</td>\n",
              "      <td>2,381,741</td>\n",
              "      <td>317,000</td>\n",
              "      <td>24.28</td>\n",
              "      <td>213.0</td>\n",
              "      <td>Algiers</td>\n",
              "      <td>150,006</td>\n",
              "      <td>...</td>\n",
              "      <td>28.10%</td>\n",
              "      <td>1.72</td>\n",
              "      <td>43,053,054</td>\n",
              "      <td>41.20%</td>\n",
              "      <td>37.20%</td>\n",
              "      <td>66.10%</td>\n",
              "      <td>11.70%</td>\n",
              "      <td>31,510,100</td>\n",
              "      <td>28.033886</td>\n",
              "      <td>1.659626</td>\n",
              "    </tr>\n",
              "  </tbody>\n",
              "</table>\n",
              "<p>3 rows × 35 columns</p>\n",
              "</div>\n",
              "    <div class=\"colab-df-buttons\">\n",
              "\n",
              "  <div class=\"colab-df-container\">\n",
              "    <button class=\"colab-df-convert\" onclick=\"convertToInteractive('df-84cd99e8-a28b-4362-aa1d-77e251146aa6')\"\n",
              "            title=\"Convert this dataframe to an interactive table.\"\n",
              "            style=\"display:none;\">\n",
              "\n",
              "  <svg xmlns=\"http://www.w3.org/2000/svg\" height=\"24px\" viewBox=\"0 -960 960 960\">\n",
              "    <path d=\"M120-120v-720h720v720H120Zm60-500h600v-160H180v160Zm220 220h160v-160H400v160Zm0 220h160v-160H400v160ZM180-400h160v-160H180v160Zm440 0h160v-160H620v160ZM180-180h160v-160H180v160Zm440 0h160v-160H620v160Z\"/>\n",
              "  </svg>\n",
              "    </button>\n",
              "\n",
              "  <style>\n",
              "    .colab-df-container {\n",
              "      display:flex;\n",
              "      gap: 12px;\n",
              "    }\n",
              "\n",
              "    .colab-df-convert {\n",
              "      background-color: #E8F0FE;\n",
              "      border: none;\n",
              "      border-radius: 50%;\n",
              "      cursor: pointer;\n",
              "      display: none;\n",
              "      fill: #1967D2;\n",
              "      height: 32px;\n",
              "      padding: 0 0 0 0;\n",
              "      width: 32px;\n",
              "    }\n",
              "\n",
              "    .colab-df-convert:hover {\n",
              "      background-color: #E2EBFA;\n",
              "      box-shadow: 0px 1px 2px rgba(60, 64, 67, 0.3), 0px 1px 3px 1px rgba(60, 64, 67, 0.15);\n",
              "      fill: #174EA6;\n",
              "    }\n",
              "\n",
              "    .colab-df-buttons div {\n",
              "      margin-bottom: 4px;\n",
              "    }\n",
              "\n",
              "    [theme=dark] .colab-df-convert {\n",
              "      background-color: #3B4455;\n",
              "      fill: #D2E3FC;\n",
              "    }\n",
              "\n",
              "    [theme=dark] .colab-df-convert:hover {\n",
              "      background-color: #434B5C;\n",
              "      box-shadow: 0px 1px 3px 1px rgba(0, 0, 0, 0.15);\n",
              "      filter: drop-shadow(0px 1px 2px rgba(0, 0, 0, 0.3));\n",
              "      fill: #FFFFFF;\n",
              "    }\n",
              "  </style>\n",
              "\n",
              "    <script>\n",
              "      const buttonEl =\n",
              "        document.querySelector('#df-84cd99e8-a28b-4362-aa1d-77e251146aa6 button.colab-df-convert');\n",
              "      buttonEl.style.display =\n",
              "        google.colab.kernel.accessAllowed ? 'block' : 'none';\n",
              "\n",
              "      async function convertToInteractive(key) {\n",
              "        const element = document.querySelector('#df-84cd99e8-a28b-4362-aa1d-77e251146aa6');\n",
              "        const dataTable =\n",
              "          await google.colab.kernel.invokeFunction('convertToInteractive',\n",
              "                                                    [key], {});\n",
              "        if (!dataTable) return;\n",
              "\n",
              "        const docLinkHtml = 'Like what you see? Visit the ' +\n",
              "          '<a target=\"_blank\" href=https://colab.research.google.com/notebooks/data_table.ipynb>data table notebook</a>'\n",
              "          + ' to learn more about interactive tables.';\n",
              "        element.innerHTML = '';\n",
              "        dataTable['output_type'] = 'display_data';\n",
              "        await google.colab.output.renderOutput(dataTable, element);\n",
              "        const docLink = document.createElement('div');\n",
              "        docLink.innerHTML = docLinkHtml;\n",
              "        element.appendChild(docLink);\n",
              "      }\n",
              "    </script>\n",
              "  </div>\n",
              "\n",
              "\n",
              "<div id=\"df-55b822a9-5b6c-4cb3-9543-06585ee7bea4\">\n",
              "  <button class=\"colab-df-quickchart\" onclick=\"quickchart('df-55b822a9-5b6c-4cb3-9543-06585ee7bea4')\"\n",
              "            title=\"Suggest charts\"\n",
              "            style=\"display:none;\">\n",
              "\n",
              "<svg xmlns=\"http://www.w3.org/2000/svg\" height=\"24px\"viewBox=\"0 0 24 24\"\n",
              "     width=\"24px\">\n",
              "    <g>\n",
              "        <path d=\"M19 3H5c-1.1 0-2 .9-2 2v14c0 1.1.9 2 2 2h14c1.1 0 2-.9 2-2V5c0-1.1-.9-2-2-2zM9 17H7v-7h2v7zm4 0h-2V7h2v10zm4 0h-2v-4h2v4z\"/>\n",
              "    </g>\n",
              "</svg>\n",
              "  </button>\n",
              "\n",
              "<style>\n",
              "  .colab-df-quickchart {\n",
              "      --bg-color: #E8F0FE;\n",
              "      --fill-color: #1967D2;\n",
              "      --hover-bg-color: #E2EBFA;\n",
              "      --hover-fill-color: #174EA6;\n",
              "      --disabled-fill-color: #AAA;\n",
              "      --disabled-bg-color: #DDD;\n",
              "  }\n",
              "\n",
              "  [theme=dark] .colab-df-quickchart {\n",
              "      --bg-color: #3B4455;\n",
              "      --fill-color: #D2E3FC;\n",
              "      --hover-bg-color: #434B5C;\n",
              "      --hover-fill-color: #FFFFFF;\n",
              "      --disabled-bg-color: #3B4455;\n",
              "      --disabled-fill-color: #666;\n",
              "  }\n",
              "\n",
              "  .colab-df-quickchart {\n",
              "    background-color: var(--bg-color);\n",
              "    border: none;\n",
              "    border-radius: 50%;\n",
              "    cursor: pointer;\n",
              "    display: none;\n",
              "    fill: var(--fill-color);\n",
              "    height: 32px;\n",
              "    padding: 0;\n",
              "    width: 32px;\n",
              "  }\n",
              "\n",
              "  .colab-df-quickchart:hover {\n",
              "    background-color: var(--hover-bg-color);\n",
              "    box-shadow: 0 1px 2px rgba(60, 64, 67, 0.3), 0 1px 3px 1px rgba(60, 64, 67, 0.15);\n",
              "    fill: var(--button-hover-fill-color);\n",
              "  }\n",
              "\n",
              "  .colab-df-quickchart-complete:disabled,\n",
              "  .colab-df-quickchart-complete:disabled:hover {\n",
              "    background-color: var(--disabled-bg-color);\n",
              "    fill: var(--disabled-fill-color);\n",
              "    box-shadow: none;\n",
              "  }\n",
              "\n",
              "  .colab-df-spinner {\n",
              "    border: 2px solid var(--fill-color);\n",
              "    border-color: transparent;\n",
              "    border-bottom-color: var(--fill-color);\n",
              "    animation:\n",
              "      spin 1s steps(1) infinite;\n",
              "  }\n",
              "\n",
              "  @keyframes spin {\n",
              "    0% {\n",
              "      border-color: transparent;\n",
              "      border-bottom-color: var(--fill-color);\n",
              "      border-left-color: var(--fill-color);\n",
              "    }\n",
              "    20% {\n",
              "      border-color: transparent;\n",
              "      border-left-color: var(--fill-color);\n",
              "      border-top-color: var(--fill-color);\n",
              "    }\n",
              "    30% {\n",
              "      border-color: transparent;\n",
              "      border-left-color: var(--fill-color);\n",
              "      border-top-color: var(--fill-color);\n",
              "      border-right-color: var(--fill-color);\n",
              "    }\n",
              "    40% {\n",
              "      border-color: transparent;\n",
              "      border-right-color: var(--fill-color);\n",
              "      border-top-color: var(--fill-color);\n",
              "    }\n",
              "    60% {\n",
              "      border-color: transparent;\n",
              "      border-right-color: var(--fill-color);\n",
              "    }\n",
              "    80% {\n",
              "      border-color: transparent;\n",
              "      border-right-color: var(--fill-color);\n",
              "      border-bottom-color: var(--fill-color);\n",
              "    }\n",
              "    90% {\n",
              "      border-color: transparent;\n",
              "      border-bottom-color: var(--fill-color);\n",
              "    }\n",
              "  }\n",
              "</style>\n",
              "\n",
              "  <script>\n",
              "    async function quickchart(key) {\n",
              "      const quickchartButtonEl =\n",
              "        document.querySelector('#' + key + ' button');\n",
              "      quickchartButtonEl.disabled = true;  // To prevent multiple clicks.\n",
              "      quickchartButtonEl.classList.add('colab-df-spinner');\n",
              "      try {\n",
              "        const charts = await google.colab.kernel.invokeFunction(\n",
              "            'suggestCharts', [key], {});\n",
              "      } catch (error) {\n",
              "        console.error('Error during call to suggestCharts:', error);\n",
              "      }\n",
              "      quickchartButtonEl.classList.remove('colab-df-spinner');\n",
              "      quickchartButtonEl.classList.add('colab-df-quickchart-complete');\n",
              "    }\n",
              "    (() => {\n",
              "      let quickchartButtonEl =\n",
              "        document.querySelector('#df-55b822a9-5b6c-4cb3-9543-06585ee7bea4 button');\n",
              "      quickchartButtonEl.style.display =\n",
              "        google.colab.kernel.accessAllowed ? 'block' : 'none';\n",
              "    })();\n",
              "  </script>\n",
              "</div>\n",
              "\n",
              "    </div>\n",
              "  </div>\n"
            ],
            "application/vnd.google.colaboratory.intrinsic+json": {
              "type": "dataframe",
              "variable_name": "df"
            }
          },
          "metadata": {},
          "execution_count": 2
        }
      ],
      "source": [
        "from google.colab import drive\n",
        "\n",
        "drive.mount('/content/drive')\n",
        "file_path = '/content/drive/MyDrive/brut-world-data-2023.csv'\n",
        "\n",
        "df = pd.read_csv(file_path)\n",
        "df.head(3)"
      ]
    },
    {
      "cell_type": "markdown",
      "metadata": {
        "id": "LHuT2pxfNNME"
      },
      "source": [
        "1.2 Normaliser les données numériques, puis remplacer les valeurs Nan par la valeur 0, en utilisant la fonction np.isnan()."
      ]
    },
    {
      "cell_type": "code",
      "execution_count": 3,
      "metadata": {
        "id": "WL33Gq6PNNME"
      },
      "outputs": [],
      "source": [
        "from sklearn.preprocessing import StandardScaler\n",
        "\n",
        "#Sélectionner les colonnes numériques\n",
        "numeric_cols = df.select_dtypes(include=[np.number]).columns\n",
        "\n",
        "\n",
        "df[numeric_cols] = StandardScaler().fit_transform(df[numeric_cols])\n",
        "df.fillna(0, inplace=True)\n",
        "\n"
      ]
    },
    {
      "cell_type": "markdown",
      "metadata": {
        "id": "0j8sBs2fNNME"
      },
      "source": [
        "1.3 Appliquer une PCA aux données normalisée, afin d'obtenir une réprésentation en deux dimensions.\n",
        "En utilisant time, mesure le temps d'éxécution."
      ]
    },
    {
      "cell_type": "code",
      "execution_count": 7,
      "metadata": {
        "colab": {
          "base_uri": "https://localhost:8080/"
        },
        "id": "HTD6HH71NNME",
        "outputId": "72d9f0ef-0219-439b-a537-d9a0598dc028"
      },
      "outputs": [
        {
          "output_type": "stream",
          "name": "stdout",
          "text": [
            "Temps d'exécution : + 0.0091 secondes\n"
          ]
        }
      ],
      "source": [
        "from sklearn.decomposition import PCA\n",
        "\n",
        "#Début du chrono\n",
        "start_time = time.time()\n",
        "\n",
        "pca = PCA(n_components=2)\n",
        "pca_result = pca.fit_transform(df[numeric_cols])\n",
        "\n",
        "# Fin du chrono\n",
        "end_time = time.time()\n",
        "\n",
        "df_pca = pd.DataFrame(pca_result, columns=[\"PC1\", \"PC2\"])\n",
        "\n",
        "print(f\"Temps d'exécution : + {end_time - start_time:.4f} secondes\");"
      ]
    },
    {
      "cell_type": "markdown",
      "source": [],
      "metadata": {
        "id": "Vl3bWoo2axqJ"
      }
    },
    {
      "cell_type": "markdown",
      "metadata": {
        "id": "b34A9jf7NNMF"
      },
      "source": [
        "1.4 Afficher la variance expliquée par les deux axes de la PCA"
      ]
    },
    {
      "cell_type": "code",
      "execution_count": null,
      "metadata": {
        "id": "lNIv8_HgNNMF"
      },
      "outputs": [],
      "source": []
    },
    {
      "cell_type": "markdown",
      "metadata": {
        "id": "aN6T8aU8NNMF"
      },
      "source": [
        "1.5 Appliquer T-SNE à ces même données toujours en deux dimensions et en affichant le temps de traitement"
      ]
    },
    {
      "cell_type": "code",
      "execution_count": null,
      "metadata": {
        "id": "YLURrWhKNNMF"
      },
      "outputs": [],
      "source": [
        "from sklearn import manifold\n"
      ]
    },
    {
      "cell_type": "markdown",
      "metadata": {
        "id": "KoaVSQoTNNMF"
      },
      "source": [
        "1.6 Créer deux diagrammes côte côte représentant les pays en 2D suivant les deux algorithmes. Ajouter les noms de pays à chaque point.\n",
        "Essayer plusieurs paramètres de t-nse pour obtenir un résultat interprétable"
      ]
    },
    {
      "cell_type": "code",
      "execution_count": null,
      "metadata": {
        "id": "078K3ZHbNNMF"
      },
      "outputs": [],
      "source": [
        "df_countries = pd.DataFrame() # Remplacer par les données chargées en 1.1\n",
        "countries_tsne = [] # Remplacer par le résultat de votre t-SNE\n",
        "countries_pca  = [] # Remplacer par le résultat de votre pca\n",
        "\n",
        "# Création du double graphique\n",
        "fig, axs = plt.subplots(1, 2, figsize=(24, 10))  # 1 ligne, 2 colonnes\n",
        "\n",
        "# Graphique TSNE\n",
        "axs[0].scatter(countries_tsne[:, 0], countries_tsne[:, 1], color='blue')\n",
        "# Ajout des labels\n",
        "for i, label in enumerate(df_countries.Pays): # Abréviation\n",
        "    axs[0].annotate(label, (countries_tsne[i, 0], countries_tsne[i, 1]), textcoords=\"offset points\", xytext=(0,10), fontsize = 8, ha='center')\n",
        "# Ajout des titres et des axes\n",
        "axs[0].set_title(\"Pays (TSNE)\")\n",
        "axs[0].set_xlabel(\"Axe X\")\n",
        "axs[0].set_ylabel(\"Axe Y\")\n",
        "axs[0].grid()\n",
        "\n",
        "# Graphique PCA\n",
        "axs[1].scatter(countries_pca[:, 0], countries_pca[:, 1], color='blue')\n",
        "# Ajout des labels\n",
        "for i, label in enumerate(df_countries.Pays): # Abréviation\n",
        "    axs[1].annotate(label, (countries_pca[i, 0], countries_pca[i, 1]), textcoords=\"offset points\", xytext=(0,10), fontsize = 8, ha='center')\n",
        "# Ajout des titres et des axes\n",
        "axs[1].set_title(\"Pays (PCA)\")\n",
        "axs[1].set_xlabel(\"Axe X\")\n",
        "axs[1].set_ylabel(\"Axe Y\")\n",
        "axs[1].grid()\n",
        "\n",
        "# Afficher le graphique\n",
        "plt.show()"
      ]
    },
    {
      "cell_type": "markdown",
      "metadata": {
        "id": "ctTPxfgDNNMF"
      },
      "source": [
        "# 2. Application de K-Means"
      ]
    },
    {
      "cell_type": "markdown",
      "metadata": {
        "id": "vnGqf_JeNNMG"
      },
      "source": [
        "2.1 Déterminer le nombre de cluster k-means optimal sur les données initiales normalisées, en traçant une courbe"
      ]
    },
    {
      "cell_type": "code",
      "execution_count": null,
      "metadata": {
        "id": "pV7T3FdKNNMG"
      },
      "outputs": [],
      "source": [
        "from sklearn.cluster import KMeans\n"
      ]
    },
    {
      "cell_type": "markdown",
      "metadata": {
        "id": "8Uew2q2gNNMG"
      },
      "source": [
        "2.2 Appliquer l'algorithme k-means aux données initiales normalisées, en utilisant le nombre de cluster optimal\n",
        "\n",
        "Afficher le temps de traitement"
      ]
    },
    {
      "cell_type": "code",
      "execution_count": null,
      "metadata": {
        "id": "ys-KWvZtNNMG"
      },
      "outputs": [],
      "source": []
    },
    {
      "cell_type": "markdown",
      "metadata": {
        "id": "TeNGWP9rNNMG"
      },
      "source": [
        "2.3 Afficher les pays pour chaque cluster"
      ]
    },
    {
      "cell_type": "code",
      "execution_count": null,
      "metadata": {
        "id": "OnrpRqiLNNMG"
      },
      "outputs": [],
      "source": []
    },
    {
      "cell_type": "markdown",
      "metadata": {
        "id": "nBRvIvEoNNMG"
      },
      "source": [
        "2.4 Tracer en 2D avec t-sne et pca les données avec une couleur par cluster k-means."
      ]
    },
    {
      "cell_type": "code",
      "execution_count": null,
      "metadata": {
        "id": "F4cChpniNNMG"
      },
      "outputs": [],
      "source": [
        "df_countries = pd.DataFrame() # Remplacer par les données chargées en 1.1\n",
        "countries_tsne = [] # Remplacer par le résultat de votre t-SNE\n",
        "countries_pca  = [] # Remplacer par le résultat de votre pca\n",
        "clusters_kmeans = [] # Remplacer par le résultat de votre kmeans (numéro de cluster)\n",
        "\n",
        "# Liste de couleurs à utiliser pour les clusters (une couleur par cluster)\n",
        "colors = ['red', 'blue', 'green', 'purple', 'orange']\n",
        "\n",
        "# Création du double graphique\n",
        "fig, axs = plt.subplots(1, 2, figsize=(24, 10))  # 1 ligne, 2 colonnes\n",
        "\n",
        "# Graphique TSNE\n",
        "for cluster_value in np.unique(clusters_kmeans):\n",
        "    cluster_points = countries_tsne[clusters_kmeans == cluster_value]\n",
        "    axs[0].scatter(cluster_points[:, 0], cluster_points[:, 1], color=colors[cluster_value], label=f'Cluster {cluster_value}')\n",
        "# Ajout des labels\n",
        "for i, label in enumerate(df_countries.Pays):\n",
        "    axs[0].annotate(label, (countries_tsne[i, 0], countries_tsne[i, 1]), textcoords=\"offset points\", xytext=(0,10), fontsize = 8, ha='center')\n",
        "# Ajout des titres et des axes\n",
        "axs[0].set_title(\"Pays (TSNE)\")\n",
        "axs[0].set_xlabel(\"Axe X\")\n",
        "axs[0].set_ylabel(\"Axe Y\")\n",
        "axs[0].grid()\n",
        "\n",
        "# Graphique PCA\n",
        "for cluster_value in np.unique(clusters_kmeans):\n",
        "    cluster_points = countries_pca[clusters_kmeans == cluster_value]\n",
        "    axs[1].scatter(cluster_points[:, 0], cluster_points[:, 1], color=colors[cluster_value], label=f'Cluster {cluster_value}')\n",
        "# Ajout des labels\n",
        "for i, label in enumerate(df_countries.Pays):\n",
        "    axs[1].annotate(label, (countries_pca[i, 0], countries_pca[i, 1]), textcoords=\"offset points\", xytext=(0,10), fontsize = 8, ha='center')\n",
        "# Ajout des titres et des axes\n",
        "axs[1].set_title(\"Pays (PCA)\")\n",
        "axs[1].set_xlabel(\"Axe X\")\n",
        "axs[1].set_ylabel(\"Axe Y\")\n",
        "axs[1].grid()\n",
        "\n",
        "# Afficher le graphique\n",
        "plt.legend()\n",
        "plt.show()"
      ]
    },
    {
      "cell_type": "markdown",
      "metadata": {
        "id": "j8P3kiVNNNMG"
      },
      "source": [
        "2.5 Réafficher La projection PCA en excluant les plus grands pays : China, United States, India, Russia\n",
        "\n",
        "Interpréter les axes X et Y de la PCA."
      ]
    },
    {
      "cell_type": "code",
      "execution_count": null,
      "metadata": {
        "id": "_l5JS3UrNNMG"
      },
      "outputs": [],
      "source": [
        "df_countries = pd.DataFrame() # Remplacer par les données chargées en 1.1\n",
        "countries_pca  = [] # Remplacer par le résultat de votre pca\n",
        "clusters_kmeans = [] # Remplacer par le résultat de votre kmeans (numéro de cluster)\n",
        "\n",
        "excluded_countries = ['China','United States','India','Russia']\n",
        "countries_filtered = countries_pca[~df_countries.Pays.isin(excluded_countries)]\n",
        "plt.figure(figsize=(12, 10))\n",
        "for cluster_value in np.unique(clusters_kmeans):\n",
        "    cluster_points = countries_filtered[df_countries.loc[~df_countries.Pays.isin(excluded_countries),'cluster'] == cluster_value]\n",
        "    plt.scatter(cluster_points[:, 0], cluster_points[:, 1], color=colors[cluster_value-1], label=f'Cluster {cluster_value}')\n",
        "# Ajout des labels\n",
        "for i, label in enumerate(df_countries.loc[~df_countries.Pays.isin(excluded_countries),'Pays']):\n",
        "    plt.annotate(label, (countries_filtered[i, 0], countries_filtered[i, 1]), textcoords=\"offset points\", xytext=(0,10), fontsize = 8, ha='center')\n",
        "# Ajout des titres et des axes\n",
        "plt.title(\"Pays (PCA)\")\n",
        "plt.xlabel(\"Axe X\")\n",
        "plt.ylabel(\"Axe Y\")\n",
        "plt.grid()\n",
        "\n",
        "# Afficher le graphique\n",
        "plt.legend()\n",
        "plt.show()"
      ]
    },
    {
      "cell_type": "markdown",
      "metadata": {
        "id": "AKGtKFB0NNMG"
      },
      "source": [
        "# 3. Application de CAH"
      ]
    },
    {
      "cell_type": "markdown",
      "metadata": {
        "id": "hb270Tx9NNMG"
      },
      "source": [
        "3.1 Importation des librairies"
      ]
    },
    {
      "cell_type": "code",
      "execution_count": null,
      "metadata": {
        "id": "IlFyFO5HNNMH"
      },
      "outputs": [],
      "source": [
        "from sklearn.metrics import accuracy_score # Calcul du score de bonnes réponses\n",
        "from scipy.spatial.distance import pdist # Fonction scipy de création de la CAH de calcul des distances\n",
        "from scipy.cluster.hierarchy import dendrogram, linkage, fcluster # Fonction scipy de création de la CAH"
      ]
    },
    {
      "cell_type": "markdown",
      "metadata": {
        "id": "NC8wx6uVNNMH"
      },
      "source": [
        "3.2 Afficher la matrice de linkage des données de pays\n",
        "\n",
        "Mesurer le temps de traitement"
      ]
    },
    {
      "cell_type": "code",
      "execution_count": null,
      "metadata": {
        "id": "S3i8V95fNNMH"
      },
      "outputs": [],
      "source": []
    },
    {
      "cell_type": "markdown",
      "metadata": {
        "id": "m-6e0zScNNMH"
      },
      "source": [
        "3.3 Afficher horizontalement le dentogramme complet.\n",
        "\n",
        "Mesurer le temps de traitement"
      ]
    },
    {
      "cell_type": "code",
      "execution_count": null,
      "metadata": {
        "id": "qhOpgczFNNMH"
      },
      "outputs": [],
      "source": []
    },
    {
      "cell_type": "markdown",
      "metadata": {
        "id": "BzGZL_VwNNMH"
      },
      "source": [
        "3.4 Afficher les 4 niveaux supérieurs du dentogramme"
      ]
    },
    {
      "cell_type": "code",
      "execution_count": null,
      "metadata": {
        "id": "J6KpOrdWNNMH"
      },
      "outputs": [],
      "source": []
    },
    {
      "cell_type": "markdown",
      "metadata": {
        "id": "d20ja064NNMH"
      },
      "source": [
        "3.5 Trouver le nombre optimal de cluster CAH"
      ]
    },
    {
      "cell_type": "code",
      "execution_count": null,
      "metadata": {
        "id": "sx4k9oH1NNMH"
      },
      "outputs": [],
      "source": []
    },
    {
      "cell_type": "markdown",
      "metadata": {
        "id": "QirGd0gTNNMH"
      },
      "source": [
        "3.6 Diviser selon le nombre optimal de cluster obtenu. Afficher la liste de pays de chaque cluster."
      ]
    },
    {
      "cell_type": "code",
      "execution_count": null,
      "metadata": {
        "id": "fxRcVXjpNNMH"
      },
      "outputs": [],
      "source": []
    },
    {
      "cell_type": "markdown",
      "metadata": {
        "id": "tz8enD1sNNMK"
      },
      "source": [
        "3.7 Tracer en 2D avec t-sne et pca les données avec une couleur par cluster CAH."
      ]
    },
    {
      "cell_type": "code",
      "execution_count": null,
      "metadata": {
        "id": "LyJTI5FZNNMK"
      },
      "outputs": [],
      "source": [
        "df_countries = pd.DataFrame() # Remplacer par les données chargées en 1.1\n",
        "countries_tsne = [] # Remplacer par le résultat de votre t-SNE\n",
        "countries_pca  = [] # Remplacer par le résultat de votre pca\n",
        "clusters_cah = [] # Remplacer par le résultat de votre CAH (numéro de cluster)\n",
        "\n",
        "# Liste de couleurs à utiliser pour les clusters (une couleur par cluster)\n",
        "colors = ['red', 'blue', 'green', 'purple', 'orange']\n",
        "\n",
        "# Création du double graphique\n",
        "fig, axs = plt.subplots(1, 2, figsize=(24, 10))  # 1 ligne, 2 colonnes\n",
        "\n",
        "# Graphique TSNE\n",
        "for cluster_value in np.unique(clusters_cah):\n",
        "    cluster_points = countries_tsne[clusters_cah == cluster_value]\n",
        "    axs[0].scatter(cluster_points[:, 0], cluster_points[:, 1], color=colors[cluster_value-1], label=f'Cluster {cluster_value}')\n",
        "# Ajout des labels\n",
        "for i, label in enumerate(df_countries.Pays):\n",
        "    axs[0].annotate(label, (countries_tsne[i, 0], countries_tsne[i, 1]), textcoords=\"offset points\", xytext=(0,10), fontsize = 8, ha='center')\n",
        "# Ajout des titres et des axes\n",
        "axs[0].set_title(\"Pays (TSNE)\")\n",
        "axs[0].set_xlabel(\"Axe X\")\n",
        "axs[0].set_ylabel(\"Axe Y\")\n",
        "axs[0].grid()\n",
        "\n",
        "# Graphique PCA\n",
        "for cluster_value in np.unique(clusters_cah):\n",
        "    cluster_points = countries_pca[clusters_cah == cluster_value]\n",
        "    axs[1].scatter(cluster_points[:, 0], cluster_points[:, 1], color=colors[cluster_value-1], label=f'Cluster {cluster_value}')\n",
        "# Ajout des labels\n",
        "for i, label in enumerate(df_countries.Pays):\n",
        "    axs[1].annotate(label, (countries_pca[i, 0], countries_pca[i, 1]), textcoords=\"offset points\", xytext=(0,10), fontsize = 8, ha='center')\n",
        "# Ajout des titres et des axes\n",
        "axs[1].set_title(\"Pays (PCA)\")\n",
        "axs[1].set_xlabel(\"Axe X\")\n",
        "axs[1].set_ylabel(\"Axe Y\")\n",
        "axs[1].grid()\n",
        "\n",
        "# Afficher le graphique\n",
        "plt.legend()\n",
        "plt.show()"
      ]
    },
    {
      "cell_type": "markdown",
      "metadata": {
        "id": "a9kNON4ANNML"
      },
      "source": [
        "3.8 Afficher la projection PCA en retirant les plus grands pays : China, United States, India et Russia"
      ]
    },
    {
      "cell_type": "code",
      "execution_count": null,
      "metadata": {
        "id": "YNAK51kdNNML"
      },
      "outputs": [],
      "source": [
        "df_countries = pd.DataFrame() # Remplacer par les données chargées en 1.1\n",
        "countries_pca  = [] # Remplacer par le résultat de votre pca\n",
        "clusters_cah = [] # Remplacer par le résultat de votre CAH (numéro de cluster)\n",
        "\n",
        "excluded_countries = ['China','United States','India','Russia']\n",
        "countries_filtered = countries_pca[~df_countries.Pays.isin(excluded_countries)]\n",
        "plt.figure(figsize=(12, 10))\n",
        "for cluster_value in np.unique(clusters_cah):\n",
        "    cluster_points = countries_filtered[df_countries.loc[~df_countries.Pays.isin(excluded_countries),'cluster'] == cluster_value]\n",
        "    plt.scatter(cluster_points[:, 0], cluster_points[:, 1], color=colors[cluster_value-1], label=f'Cluster {cluster_value}')\n",
        "# Ajout des labels\n",
        "for i, label in enumerate(df_countries.loc[~df_countries.Pays.isin(excluded_countries),'Pays']):\n",
        "    plt.annotate(label, (countries_filtered[i, 0], countries_filtered[i, 1]), textcoords=\"offset points\", xytext=(0,10), fontsize = 8, ha='center')\n",
        "# Ajout des titres et des axes\n",
        "plt.title(\"Pays (PCA)\")\n",
        "plt.xlabel(\"Axe X\")\n",
        "plt.ylabel(\"Axe Y\")\n",
        "plt.grid()\n",
        "\n",
        "# Afficher le graphique\n",
        "plt.legend()\n",
        "plt.show()"
      ]
    },
    {
      "cell_type": "markdown",
      "metadata": {
        "id": "1_gasJYHNNML"
      },
      "source": [
        "3.9 Quels sont les avantages et inconvénient entre les différentes combinaisons de réduction de dimensionnalité (PCA, t-SNE) et de clustering (k-Means, CAH) ?"
      ]
    },
    {
      "cell_type": "markdown",
      "metadata": {
        "id": "N_4bAQ7FNNML"
      },
      "source": [
        "<i>écrivez votre réponse ici</i>"
      ]
    }
  ],
  "metadata": {
    "kernelspec": {
      "display_name": "Python 3.9.6 64-bit",
      "language": "python",
      "name": "python3"
    },
    "language_info": {
      "codemirror_mode": {
        "name": "ipython",
        "version": 3
      },
      "file_extension": ".py",
      "mimetype": "text/x-python",
      "name": "python",
      "nbconvert_exporter": "python",
      "pygments_lexer": "ipython3",
      "version": "3.12.4"
    },
    "vscode": {
      "interpreter": {
        "hash": "f7976576504ac6c456dadd405d7477574ca2a64265ee4724cfbc25daae5f6d94"
      }
    },
    "colab": {
      "provenance": [],
      "include_colab_link": true
    }
  },
  "nbformat": 4,
  "nbformat_minor": 0
}