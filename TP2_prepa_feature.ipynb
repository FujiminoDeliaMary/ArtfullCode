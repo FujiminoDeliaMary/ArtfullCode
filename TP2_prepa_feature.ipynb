{
  "cells": [
    {
      "cell_type": "markdown",
      "metadata": {
        "id": "view-in-github",
        "colab_type": "text"
      },
      "source": [
        "<a href=\"https://colab.research.google.com/github/FujiminoDeliaMary/ArtfullCode/blob/main/TP2_prepa_feature.ipynb\" target=\"_parent\"><img src=\"https://colab.research.google.com/assets/colab-badge.svg\" alt=\"Open In Colab\"/></a>"
      ]
    },
    {
      "cell_type": "markdown",
      "metadata": {
        "id": "vKS4zZT9O6wH"
      },
      "source": [
        "## Import des librairies ##"
      ]
    },
    {
      "cell_type": "code",
      "execution_count": 72,
      "metadata": {
        "id": "eWqnWQ_yO6wK"
      },
      "outputs": [],
      "source": [
        "#Imports librairies de base\n",
        "import numpy as np\n",
        "import pandas as pd\n",
        "\n",
        "#Affichage de Graphes\n",
        "from IPython.display import Markdown, display, HTML\n",
        "import matplotlib.pyplot as plt\n",
        "\n",
        "#Information Mutuelle\n",
        "from sklearn.feature_selection import mutual_info_regression\n"
      ]
    },
    {
      "cell_type": "markdown",
      "source": [],
      "metadata": {
        "id": "HjplCg0eRe1t"
      }
    },
    {
      "cell_type": "markdown",
      "source": [
        "# Nouvelle section"
      ],
      "metadata": {
        "id": "fTjHA4y9RLN_"
      }
    },
    {
      "cell_type": "markdown",
      "metadata": {
        "_cell_guid": "25b1e1db-8bc5-7029-f719-91da523bd121",
        "_uuid": "5c867fcbb300bcf3c9b8986bba9949da2a2df931",
        "id": "pX8mzka4O6wM"
      },
      "source": [
        "## 1. Lecture des données ##"
      ]
    },
    {
      "cell_type": "markdown",
      "metadata": {
        "id": "tu_87Xu3O6wM"
      },
      "source": [
        "1.1 Charger les données d'apprentissage (Data/passagers.csv) dans un DataFrame nommé train. Afficher 10 exemples."
      ]
    },
    {
      "cell_type": "code",
      "execution_count": 73,
      "metadata": {
        "_cell_guid": "2ce68358-02ec-556d-ba88-e773a50bc18b",
        "_uuid": "5ec0878acc5c7ab3903410e671c2a2c6cfeafeea",
        "id": "RnWiICXVO6wM",
        "colab": {
          "base_uri": "https://localhost:8080/"
        },
        "outputId": "310c4e04-f2e0-4252-eeac-f967f0f9cafc"
      },
      "outputs": [
        {
          "output_type": "stream",
          "name": "stdout",
          "text": [
            "   PassengerId  Survived  Pclass  \\\n",
            "0            1         0       3   \n",
            "1            2         1       1   \n",
            "2            3         1       3   \n",
            "3            4         1       1   \n",
            "4            5         0       3   \n",
            "5            6         0       3   \n",
            "6            7         0       1   \n",
            "7            8         0       3   \n",
            "8            9         1       3   \n",
            "9           10         1       2   \n",
            "\n",
            "                                                Name     Sex   Age  SibSp  \\\n",
            "0                            Braund, Mr. Owen Harris    male  22.0      1   \n",
            "1  Cumings, Mrs. John Bradley (Florence Briggs Th...  female  38.0      1   \n",
            "2                             Heikkinen, Miss. Laina  female  26.0      0   \n",
            "3       Futrelle, Mrs. Jacques Heath (Lily May Peel)  female  35.0      1   \n",
            "4                           Allen, Mr. William Henry    male  35.0      0   \n",
            "5                                   Moran, Mr. James    male   NaN      0   \n",
            "6                            McCarthy, Mr. Timothy J    male  54.0      0   \n",
            "7                     Palsson, Master. Gosta Leonard    male   2.0      3   \n",
            "8  Johnson, Mrs. Oscar W (Elisabeth Vilhelmina Berg)  female  27.0      0   \n",
            "9                Nasser, Mrs. Nicholas (Adele Achem)  female  14.0      1   \n",
            "\n",
            "   Parch            Ticket     Fare Cabin Embarked  \n",
            "0      0         A/5 21171   7.2500   NaN        S  \n",
            "1      0          PC 17599  71.2833   C85        C  \n",
            "2      0  STON/O2. 3101282   7.9250   NaN        S  \n",
            "3      0            113803  53.1000  C123        S  \n",
            "4      0            373450   8.0500   NaN        S  \n",
            "5      0            330877   8.4583   NaN        Q  \n",
            "6      0             17463  51.8625   E46        S  \n",
            "7      1            349909  21.0750   NaN        S  \n",
            "8      2            347742  11.1333   NaN        S  \n",
            "9      0            237736  30.0708   NaN        C  \n"
          ]
        }
      ],
      "source": [
        "\n",
        "from google.colab import files\n",
        "import pandas as pd\n",
        "\n",
        "train = pd.read_csv('data/passagers.csv')\n",
        "print(train.head(10));\n",
        "\n",
        "\n"
      ]
    },
    {
      "cell_type": "markdown",
      "metadata": {
        "id": "mb4Mdr65O6wN"
      },
      "source": [
        "1.2 Charger les données d'apprentissage (Data/test.csv) dans un Dataframe nommé test. Afficher 10 exemples."
      ]
    },
    {
      "cell_type": "code",
      "execution_count": 74,
      "metadata": {
        "_cell_guid": "2ce68358-02ec-556d-ba88-e773a50bc18b",
        "_uuid": "5ec0878acc5c7ab3903410e671c2a2c6cfeafeea",
        "id": "lF-5XxuDO6wN",
        "colab": {
          "base_uri": "https://localhost:8080/",
          "height": 363
        },
        "outputId": "cc2260ea-a42d-40ac-a78c-108aa4e913cb"
      },
      "outputs": [
        {
          "output_type": "execute_result",
          "data": {
            "text/plain": [
              "   PassengerId  Pclass                                          Name     Sex  \\\n",
              "0          892       3                              Kelly, Mr. James    male   \n",
              "1          893       3              Wilkes, Mrs. James (Ellen Needs)  female   \n",
              "2          894       2                     Myles, Mr. Thomas Francis    male   \n",
              "3          895       3                              Wirz, Mr. Albert    male   \n",
              "4          896       3  Hirvonen, Mrs. Alexander (Helga E Lindqvist)  female   \n",
              "5          897       3                    Svensson, Mr. Johan Cervin    male   \n",
              "6          898       3                          Connolly, Miss. Kate  female   \n",
              "7          899       2                  Caldwell, Mr. Albert Francis    male   \n",
              "8          900       3     Abrahim, Mrs. Joseph (Sophie Halaut Easu)  female   \n",
              "9          901       3                       Davies, Mr. John Samuel    male   \n",
              "\n",
              "    Age  SibSp  Parch     Ticket     Fare Cabin Embarked  \n",
              "0  34.5      0      0     330911   7.8292   NaN        Q  \n",
              "1  47.0      1      0     363272   7.0000   NaN        S  \n",
              "2  62.0      0      0     240276   9.6875   NaN        Q  \n",
              "3  27.0      0      0     315154   8.6625   NaN        S  \n",
              "4  22.0      1      1    3101298  12.2875   NaN        S  \n",
              "5  14.0      0      0       7538   9.2250   NaN        S  \n",
              "6  30.0      0      0     330972   7.6292   NaN        Q  \n",
              "7  26.0      1      1     248738  29.0000   NaN        S  \n",
              "8  18.0      0      0       2657   7.2292   NaN        C  \n",
              "9  21.0      2      0  A/4 48871  24.1500   NaN        S  "
            ],
            "text/html": [
              "\n",
              "  <div id=\"df-fcdc5494-f65c-4c7c-9132-a1aa327f3d2b\" class=\"colab-df-container\">\n",
              "    <div>\n",
              "<style scoped>\n",
              "    .dataframe tbody tr th:only-of-type {\n",
              "        vertical-align: middle;\n",
              "    }\n",
              "\n",
              "    .dataframe tbody tr th {\n",
              "        vertical-align: top;\n",
              "    }\n",
              "\n",
              "    .dataframe thead th {\n",
              "        text-align: right;\n",
              "    }\n",
              "</style>\n",
              "<table border=\"1\" class=\"dataframe\">\n",
              "  <thead>\n",
              "    <tr style=\"text-align: right;\">\n",
              "      <th></th>\n",
              "      <th>PassengerId</th>\n",
              "      <th>Pclass</th>\n",
              "      <th>Name</th>\n",
              "      <th>Sex</th>\n",
              "      <th>Age</th>\n",
              "      <th>SibSp</th>\n",
              "      <th>Parch</th>\n",
              "      <th>Ticket</th>\n",
              "      <th>Fare</th>\n",
              "      <th>Cabin</th>\n",
              "      <th>Embarked</th>\n",
              "    </tr>\n",
              "  </thead>\n",
              "  <tbody>\n",
              "    <tr>\n",
              "      <th>0</th>\n",
              "      <td>892</td>\n",
              "      <td>3</td>\n",
              "      <td>Kelly, Mr. James</td>\n",
              "      <td>male</td>\n",
              "      <td>34.5</td>\n",
              "      <td>0</td>\n",
              "      <td>0</td>\n",
              "      <td>330911</td>\n",
              "      <td>7.8292</td>\n",
              "      <td>NaN</td>\n",
              "      <td>Q</td>\n",
              "    </tr>\n",
              "    <tr>\n",
              "      <th>1</th>\n",
              "      <td>893</td>\n",
              "      <td>3</td>\n",
              "      <td>Wilkes, Mrs. James (Ellen Needs)</td>\n",
              "      <td>female</td>\n",
              "      <td>47.0</td>\n",
              "      <td>1</td>\n",
              "      <td>0</td>\n",
              "      <td>363272</td>\n",
              "      <td>7.0000</td>\n",
              "      <td>NaN</td>\n",
              "      <td>S</td>\n",
              "    </tr>\n",
              "    <tr>\n",
              "      <th>2</th>\n",
              "      <td>894</td>\n",
              "      <td>2</td>\n",
              "      <td>Myles, Mr. Thomas Francis</td>\n",
              "      <td>male</td>\n",
              "      <td>62.0</td>\n",
              "      <td>0</td>\n",
              "      <td>0</td>\n",
              "      <td>240276</td>\n",
              "      <td>9.6875</td>\n",
              "      <td>NaN</td>\n",
              "      <td>Q</td>\n",
              "    </tr>\n",
              "    <tr>\n",
              "      <th>3</th>\n",
              "      <td>895</td>\n",
              "      <td>3</td>\n",
              "      <td>Wirz, Mr. Albert</td>\n",
              "      <td>male</td>\n",
              "      <td>27.0</td>\n",
              "      <td>0</td>\n",
              "      <td>0</td>\n",
              "      <td>315154</td>\n",
              "      <td>8.6625</td>\n",
              "      <td>NaN</td>\n",
              "      <td>S</td>\n",
              "    </tr>\n",
              "    <tr>\n",
              "      <th>4</th>\n",
              "      <td>896</td>\n",
              "      <td>3</td>\n",
              "      <td>Hirvonen, Mrs. Alexander (Helga E Lindqvist)</td>\n",
              "      <td>female</td>\n",
              "      <td>22.0</td>\n",
              "      <td>1</td>\n",
              "      <td>1</td>\n",
              "      <td>3101298</td>\n",
              "      <td>12.2875</td>\n",
              "      <td>NaN</td>\n",
              "      <td>S</td>\n",
              "    </tr>\n",
              "    <tr>\n",
              "      <th>5</th>\n",
              "      <td>897</td>\n",
              "      <td>3</td>\n",
              "      <td>Svensson, Mr. Johan Cervin</td>\n",
              "      <td>male</td>\n",
              "      <td>14.0</td>\n",
              "      <td>0</td>\n",
              "      <td>0</td>\n",
              "      <td>7538</td>\n",
              "      <td>9.2250</td>\n",
              "      <td>NaN</td>\n",
              "      <td>S</td>\n",
              "    </tr>\n",
              "    <tr>\n",
              "      <th>6</th>\n",
              "      <td>898</td>\n",
              "      <td>3</td>\n",
              "      <td>Connolly, Miss. Kate</td>\n",
              "      <td>female</td>\n",
              "      <td>30.0</td>\n",
              "      <td>0</td>\n",
              "      <td>0</td>\n",
              "      <td>330972</td>\n",
              "      <td>7.6292</td>\n",
              "      <td>NaN</td>\n",
              "      <td>Q</td>\n",
              "    </tr>\n",
              "    <tr>\n",
              "      <th>7</th>\n",
              "      <td>899</td>\n",
              "      <td>2</td>\n",
              "      <td>Caldwell, Mr. Albert Francis</td>\n",
              "      <td>male</td>\n",
              "      <td>26.0</td>\n",
              "      <td>1</td>\n",
              "      <td>1</td>\n",
              "      <td>248738</td>\n",
              "      <td>29.0000</td>\n",
              "      <td>NaN</td>\n",
              "      <td>S</td>\n",
              "    </tr>\n",
              "    <tr>\n",
              "      <th>8</th>\n",
              "      <td>900</td>\n",
              "      <td>3</td>\n",
              "      <td>Abrahim, Mrs. Joseph (Sophie Halaut Easu)</td>\n",
              "      <td>female</td>\n",
              "      <td>18.0</td>\n",
              "      <td>0</td>\n",
              "      <td>0</td>\n",
              "      <td>2657</td>\n",
              "      <td>7.2292</td>\n",
              "      <td>NaN</td>\n",
              "      <td>C</td>\n",
              "    </tr>\n",
              "    <tr>\n",
              "      <th>9</th>\n",
              "      <td>901</td>\n",
              "      <td>3</td>\n",
              "      <td>Davies, Mr. John Samuel</td>\n",
              "      <td>male</td>\n",
              "      <td>21.0</td>\n",
              "      <td>2</td>\n",
              "      <td>0</td>\n",
              "      <td>A/4 48871</td>\n",
              "      <td>24.1500</td>\n",
              "      <td>NaN</td>\n",
              "      <td>S</td>\n",
              "    </tr>\n",
              "  </tbody>\n",
              "</table>\n",
              "</div>\n",
              "    <div class=\"colab-df-buttons\">\n",
              "\n",
              "  <div class=\"colab-df-container\">\n",
              "    <button class=\"colab-df-convert\" onclick=\"convertToInteractive('df-fcdc5494-f65c-4c7c-9132-a1aa327f3d2b')\"\n",
              "            title=\"Convert this dataframe to an interactive table.\"\n",
              "            style=\"display:none;\">\n",
              "\n",
              "  <svg xmlns=\"http://www.w3.org/2000/svg\" height=\"24px\" viewBox=\"0 -960 960 960\">\n",
              "    <path d=\"M120-120v-720h720v720H120Zm60-500h600v-160H180v160Zm220 220h160v-160H400v160Zm0 220h160v-160H400v160ZM180-400h160v-160H180v160Zm440 0h160v-160H620v160ZM180-180h160v-160H180v160Zm440 0h160v-160H620v160Z\"/>\n",
              "  </svg>\n",
              "    </button>\n",
              "\n",
              "  <style>\n",
              "    .colab-df-container {\n",
              "      display:flex;\n",
              "      gap: 12px;\n",
              "    }\n",
              "\n",
              "    .colab-df-convert {\n",
              "      background-color: #E8F0FE;\n",
              "      border: none;\n",
              "      border-radius: 50%;\n",
              "      cursor: pointer;\n",
              "      display: none;\n",
              "      fill: #1967D2;\n",
              "      height: 32px;\n",
              "      padding: 0 0 0 0;\n",
              "      width: 32px;\n",
              "    }\n",
              "\n",
              "    .colab-df-convert:hover {\n",
              "      background-color: #E2EBFA;\n",
              "      box-shadow: 0px 1px 2px rgba(60, 64, 67, 0.3), 0px 1px 3px 1px rgba(60, 64, 67, 0.15);\n",
              "      fill: #174EA6;\n",
              "    }\n",
              "\n",
              "    .colab-df-buttons div {\n",
              "      margin-bottom: 4px;\n",
              "    }\n",
              "\n",
              "    [theme=dark] .colab-df-convert {\n",
              "      background-color: #3B4455;\n",
              "      fill: #D2E3FC;\n",
              "    }\n",
              "\n",
              "    [theme=dark] .colab-df-convert:hover {\n",
              "      background-color: #434B5C;\n",
              "      box-shadow: 0px 1px 3px 1px rgba(0, 0, 0, 0.15);\n",
              "      filter: drop-shadow(0px 1px 2px rgba(0, 0, 0, 0.3));\n",
              "      fill: #FFFFFF;\n",
              "    }\n",
              "  </style>\n",
              "\n",
              "    <script>\n",
              "      const buttonEl =\n",
              "        document.querySelector('#df-fcdc5494-f65c-4c7c-9132-a1aa327f3d2b button.colab-df-convert');\n",
              "      buttonEl.style.display =\n",
              "        google.colab.kernel.accessAllowed ? 'block' : 'none';\n",
              "\n",
              "      async function convertToInteractive(key) {\n",
              "        const element = document.querySelector('#df-fcdc5494-f65c-4c7c-9132-a1aa327f3d2b');\n",
              "        const dataTable =\n",
              "          await google.colab.kernel.invokeFunction('convertToInteractive',\n",
              "                                                    [key], {});\n",
              "        if (!dataTable) return;\n",
              "\n",
              "        const docLinkHtml = 'Like what you see? Visit the ' +\n",
              "          '<a target=\"_blank\" href=https://colab.research.google.com/notebooks/data_table.ipynb>data table notebook</a>'\n",
              "          + ' to learn more about interactive tables.';\n",
              "        element.innerHTML = '';\n",
              "        dataTable['output_type'] = 'display_data';\n",
              "        await google.colab.output.renderOutput(dataTable, element);\n",
              "        const docLink = document.createElement('div');\n",
              "        docLink.innerHTML = docLinkHtml;\n",
              "        element.appendChild(docLink);\n",
              "      }\n",
              "    </script>\n",
              "  </div>\n",
              "\n",
              "\n",
              "<div id=\"df-d067389d-3829-47b8-a855-2467f74ab7b9\">\n",
              "  <button class=\"colab-df-quickchart\" onclick=\"quickchart('df-d067389d-3829-47b8-a855-2467f74ab7b9')\"\n",
              "            title=\"Suggest charts\"\n",
              "            style=\"display:none;\">\n",
              "\n",
              "<svg xmlns=\"http://www.w3.org/2000/svg\" height=\"24px\"viewBox=\"0 0 24 24\"\n",
              "     width=\"24px\">\n",
              "    <g>\n",
              "        <path d=\"M19 3H5c-1.1 0-2 .9-2 2v14c0 1.1.9 2 2 2h14c1.1 0 2-.9 2-2V5c0-1.1-.9-2-2-2zM9 17H7v-7h2v7zm4 0h-2V7h2v10zm4 0h-2v-4h2v4z\"/>\n",
              "    </g>\n",
              "</svg>\n",
              "  </button>\n",
              "\n",
              "<style>\n",
              "  .colab-df-quickchart {\n",
              "      --bg-color: #E8F0FE;\n",
              "      --fill-color: #1967D2;\n",
              "      --hover-bg-color: #E2EBFA;\n",
              "      --hover-fill-color: #174EA6;\n",
              "      --disabled-fill-color: #AAA;\n",
              "      --disabled-bg-color: #DDD;\n",
              "  }\n",
              "\n",
              "  [theme=dark] .colab-df-quickchart {\n",
              "      --bg-color: #3B4455;\n",
              "      --fill-color: #D2E3FC;\n",
              "      --hover-bg-color: #434B5C;\n",
              "      --hover-fill-color: #FFFFFF;\n",
              "      --disabled-bg-color: #3B4455;\n",
              "      --disabled-fill-color: #666;\n",
              "  }\n",
              "\n",
              "  .colab-df-quickchart {\n",
              "    background-color: var(--bg-color);\n",
              "    border: none;\n",
              "    border-radius: 50%;\n",
              "    cursor: pointer;\n",
              "    display: none;\n",
              "    fill: var(--fill-color);\n",
              "    height: 32px;\n",
              "    padding: 0;\n",
              "    width: 32px;\n",
              "  }\n",
              "\n",
              "  .colab-df-quickchart:hover {\n",
              "    background-color: var(--hover-bg-color);\n",
              "    box-shadow: 0 1px 2px rgba(60, 64, 67, 0.3), 0 1px 3px 1px rgba(60, 64, 67, 0.15);\n",
              "    fill: var(--button-hover-fill-color);\n",
              "  }\n",
              "\n",
              "  .colab-df-quickchart-complete:disabled,\n",
              "  .colab-df-quickchart-complete:disabled:hover {\n",
              "    background-color: var(--disabled-bg-color);\n",
              "    fill: var(--disabled-fill-color);\n",
              "    box-shadow: none;\n",
              "  }\n",
              "\n",
              "  .colab-df-spinner {\n",
              "    border: 2px solid var(--fill-color);\n",
              "    border-color: transparent;\n",
              "    border-bottom-color: var(--fill-color);\n",
              "    animation:\n",
              "      spin 1s steps(1) infinite;\n",
              "  }\n",
              "\n",
              "  @keyframes spin {\n",
              "    0% {\n",
              "      border-color: transparent;\n",
              "      border-bottom-color: var(--fill-color);\n",
              "      border-left-color: var(--fill-color);\n",
              "    }\n",
              "    20% {\n",
              "      border-color: transparent;\n",
              "      border-left-color: var(--fill-color);\n",
              "      border-top-color: var(--fill-color);\n",
              "    }\n",
              "    30% {\n",
              "      border-color: transparent;\n",
              "      border-left-color: var(--fill-color);\n",
              "      border-top-color: var(--fill-color);\n",
              "      border-right-color: var(--fill-color);\n",
              "    }\n",
              "    40% {\n",
              "      border-color: transparent;\n",
              "      border-right-color: var(--fill-color);\n",
              "      border-top-color: var(--fill-color);\n",
              "    }\n",
              "    60% {\n",
              "      border-color: transparent;\n",
              "      border-right-color: var(--fill-color);\n",
              "    }\n",
              "    80% {\n",
              "      border-color: transparent;\n",
              "      border-right-color: var(--fill-color);\n",
              "      border-bottom-color: var(--fill-color);\n",
              "    }\n",
              "    90% {\n",
              "      border-color: transparent;\n",
              "      border-bottom-color: var(--fill-color);\n",
              "    }\n",
              "  }\n",
              "</style>\n",
              "\n",
              "  <script>\n",
              "    async function quickchart(key) {\n",
              "      const quickchartButtonEl =\n",
              "        document.querySelector('#' + key + ' button');\n",
              "      quickchartButtonEl.disabled = true;  // To prevent multiple clicks.\n",
              "      quickchartButtonEl.classList.add('colab-df-spinner');\n",
              "      try {\n",
              "        const charts = await google.colab.kernel.invokeFunction(\n",
              "            'suggestCharts', [key], {});\n",
              "      } catch (error) {\n",
              "        console.error('Error during call to suggestCharts:', error);\n",
              "      }\n",
              "      quickchartButtonEl.classList.remove('colab-df-spinner');\n",
              "      quickchartButtonEl.classList.add('colab-df-quickchart-complete');\n",
              "    }\n",
              "    (() => {\n",
              "      let quickchartButtonEl =\n",
              "        document.querySelector('#df-d067389d-3829-47b8-a855-2467f74ab7b9 button');\n",
              "      quickchartButtonEl.style.display =\n",
              "        google.colab.kernel.accessAllowed ? 'block' : 'none';\n",
              "    })();\n",
              "  </script>\n",
              "</div>\n",
              "\n",
              "    </div>\n",
              "  </div>\n"
            ],
            "application/vnd.google.colaboratory.intrinsic+json": {
              "type": "dataframe",
              "variable_name": "test",
              "summary": "{\n  \"name\": \"test\",\n  \"rows\": 418,\n  \"fields\": [\n    {\n      \"column\": \"PassengerId\",\n      \"properties\": {\n        \"dtype\": \"number\",\n        \"std\": 120,\n        \"min\": 892,\n        \"max\": 1309,\n        \"num_unique_values\": 418,\n        \"samples\": [\n          1213,\n          1216,\n          1280\n        ],\n        \"semantic_type\": \"\",\n        \"description\": \"\"\n      }\n    },\n    {\n      \"column\": \"Pclass\",\n      \"properties\": {\n        \"dtype\": \"number\",\n        \"std\": 0,\n        \"min\": 1,\n        \"max\": 3,\n        \"num_unique_values\": 3,\n        \"samples\": [\n          3,\n          2,\n          1\n        ],\n        \"semantic_type\": \"\",\n        \"description\": \"\"\n      }\n    },\n    {\n      \"column\": \"Name\",\n      \"properties\": {\n        \"dtype\": \"string\",\n        \"num_unique_values\": 418,\n        \"samples\": [\n          \"Krekorian, Mr. Neshan\",\n          \"Kreuchen, Miss. Emilie\",\n          \"Canavan, Mr. Patrick\"\n        ],\n        \"semantic_type\": \"\",\n        \"description\": \"\"\n      }\n    },\n    {\n      \"column\": \"Sex\",\n      \"properties\": {\n        \"dtype\": \"category\",\n        \"num_unique_values\": 2,\n        \"samples\": [\n          \"female\",\n          \"male\"\n        ],\n        \"semantic_type\": \"\",\n        \"description\": \"\"\n      }\n    },\n    {\n      \"column\": \"Age\",\n      \"properties\": {\n        \"dtype\": \"number\",\n        \"std\": 14.18120923562442,\n        \"min\": 0.17,\n        \"max\": 76.0,\n        \"num_unique_values\": 79,\n        \"samples\": [\n          10.0,\n          34.5\n        ],\n        \"semantic_type\": \"\",\n        \"description\": \"\"\n      }\n    },\n    {\n      \"column\": \"SibSp\",\n      \"properties\": {\n        \"dtype\": \"number\",\n        \"std\": 0,\n        \"min\": 0,\n        \"max\": 8,\n        \"num_unique_values\": 7,\n        \"samples\": [\n          0,\n          1\n        ],\n        \"semantic_type\": \"\",\n        \"description\": \"\"\n      }\n    },\n    {\n      \"column\": \"Parch\",\n      \"properties\": {\n        \"dtype\": \"number\",\n        \"std\": 0,\n        \"min\": 0,\n        \"max\": 9,\n        \"num_unique_values\": 8,\n        \"samples\": [\n          1,\n          6\n        ],\n        \"semantic_type\": \"\",\n        \"description\": \"\"\n      }\n    },\n    {\n      \"column\": \"Ticket\",\n      \"properties\": {\n        \"dtype\": \"string\",\n        \"num_unique_values\": 363,\n        \"samples\": [\n          \"2673\",\n          \"W./C. 6607\"\n        ],\n        \"semantic_type\": \"\",\n        \"description\": \"\"\n      }\n    },\n    {\n      \"column\": \"Fare\",\n      \"properties\": {\n        \"dtype\": \"number\",\n        \"std\": 55.90757617997383,\n        \"min\": 0.0,\n        \"max\": 512.3292,\n        \"num_unique_values\": 169,\n        \"samples\": [\n          41.5792,\n          57.75\n        ],\n        \"semantic_type\": \"\",\n        \"description\": \"\"\n      }\n    },\n    {\n      \"column\": \"Cabin\",\n      \"properties\": {\n        \"dtype\": \"category\",\n        \"num_unique_values\": 76,\n        \"samples\": [\n          \"A21\",\n          \"E45\"\n        ],\n        \"semantic_type\": \"\",\n        \"description\": \"\"\n      }\n    },\n    {\n      \"column\": \"Embarked\",\n      \"properties\": {\n        \"dtype\": \"category\",\n        \"num_unique_values\": 3,\n        \"samples\": [\n          \"Q\",\n          \"S\"\n        ],\n        \"semantic_type\": \"\",\n        \"description\": \"\"\n      }\n    }\n  ]\n}"
            }
          },
          "metadata": {},
          "execution_count": 74
        }
      ],
      "source": [
        "test = pd.read_csv('data/test.csv')\n",
        "test.head(10)\n"
      ]
    },
    {
      "cell_type": "code",
      "execution_count": 74,
      "metadata": {
        "id": "gwpBKPMXO6wN"
      },
      "outputs": [],
      "source": []
    },
    {
      "cell_type": "markdown",
      "metadata": {
        "id": "buulxLlKO6wN"
      },
      "source": [
        "1.3 Afficher les informations des deux DataFrames train et Test."
      ]
    },
    {
      "cell_type": "code",
      "execution_count": 75,
      "metadata": {
        "_cell_guid": "2ce68358-02ec-556d-ba88-e773a50bc18b",
        "_uuid": "5ec0878acc5c7ab3903410e671c2a2c6cfeafeea",
        "id": "YO6_2wf9O6wN",
        "colab": {
          "base_uri": "https://localhost:8080/"
        },
        "outputId": "7728feea-0a08-4a40-e2c2-b761356c360e"
      },
      "outputs": [
        {
          "output_type": "stream",
          "name": "stdout",
          "text": [
            "<class 'pandas.core.frame.DataFrame'>\n",
            "RangeIndex: 418 entries, 0 to 417\n",
            "Data columns (total 11 columns):\n",
            " #   Column       Non-Null Count  Dtype  \n",
            "---  ------       --------------  -----  \n",
            " 0   PassengerId  418 non-null    int64  \n",
            " 1   Pclass       418 non-null    int64  \n",
            " 2   Name         418 non-null    object \n",
            " 3   Sex          418 non-null    object \n",
            " 4   Age          332 non-null    float64\n",
            " 5   SibSp        418 non-null    int64  \n",
            " 6   Parch        418 non-null    int64  \n",
            " 7   Ticket       418 non-null    object \n",
            " 8   Fare         417 non-null    float64\n",
            " 9   Cabin        91 non-null     object \n",
            " 10  Embarked     418 non-null    object \n",
            "dtypes: float64(2), int64(4), object(5)\n",
            "memory usage: 36.1+ KB\n",
            "\n",
            "---------------------------------------------------------------------\n",
            "<class 'pandas.core.frame.DataFrame'>\n",
            "RangeIndex: 891 entries, 0 to 890\n",
            "Data columns (total 12 columns):\n",
            " #   Column       Non-Null Count  Dtype  \n",
            "---  ------       --------------  -----  \n",
            " 0   PassengerId  891 non-null    int64  \n",
            " 1   Survived     891 non-null    int64  \n",
            " 2   Pclass       891 non-null    int64  \n",
            " 3   Name         891 non-null    object \n",
            " 4   Sex          891 non-null    object \n",
            " 5   Age          714 non-null    float64\n",
            " 6   SibSp        891 non-null    int64  \n",
            " 7   Parch        891 non-null    int64  \n",
            " 8   Ticket       891 non-null    object \n",
            " 9   Fare         891 non-null    float64\n",
            " 10  Cabin        204 non-null    object \n",
            " 11  Embarked     889 non-null    object \n",
            "dtypes: float64(2), int64(5), object(5)\n",
            "memory usage: 83.7+ KB\n"
          ]
        }
      ],
      "source": [
        "test.info()\n",
        "print(\"\\n---------------------------------------------------------------------\")\n",
        "train.info()"
      ]
    },
    {
      "cell_type": "markdown",
      "metadata": {
        "id": "RmB7YQkVO6wO"
      },
      "source": [
        "1.4 Calculer le taux global de survie"
      ]
    },
    {
      "cell_type": "code",
      "execution_count": 76,
      "metadata": {
        "id": "NlyaqzA0O6wO",
        "colab": {
          "base_uri": "https://localhost:8080/"
        },
        "outputId": "8e9061d7-5061-49ed-e5da-03b683ddd699"
      },
      "outputs": [
        {
          "output_type": "stream",
          "name": "stdout",
          "text": [
            "Taux de survie : 38.38%\n"
          ]
        }
      ],
      "source": [
        "\n",
        "taux_survie = train['Survived'].mean()\n",
        "print(f\"Taux de survie : {taux_survie:.2%}\")"
      ]
    },
    {
      "cell_type": "markdown",
      "metadata": {
        "id": "-eNeoZ_2O6wO"
      },
      "source": [
        "\n"
      ]
    },
    {
      "cell_type": "markdown",
      "metadata": {
        "id": "3RRFK0E-O6wO"
      },
      "source": [
        "#### Question 1 : Quel Travail voyez-vous pour que les données soient prêtes à faire tourner dans un modèle ?\n",
        "\n",
        "-> encoder les colonnes sexes\n",
        "-> combler/supprimer les valeurs nulles de la colonnes age\n",
        "-> Supprimer les colonnes dérangeantes\n",
        "\n",
        "\n",
        "\n",
        "#### Question 2 : Quelle différence y-a-t'il entre les données train et les données test ?\n",
        "-> c'est un dataSet qui a été divisé pour donner les données train et test.\n",
        "\n",
        "\n",
        "\n",
        "#### Question 3 : Quel est le rôle de ces deux sets de données ?\n",
        " -> Les données train sont utilisées pour entrâiner le modèle\n",
        " -> Les données de test sont utilisées pour évaluer la performance des données après l'entraînement.\n",
        "\n"
      ]
    },
    {
      "cell_type": "markdown",
      "metadata": {
        "_cell_guid": "f9595646-65c9-6fc4-395f-0befc4d122ce",
        "_uuid": "66273d64a2548d7a88464ab2a73dbdedfbdc488b",
        "id": "J4XFr2nDO6wO"
      },
      "source": [
        "## 2. Analyse des features"
      ]
    },
    {
      "cell_type": "markdown",
      "metadata": {
        "_cell_guid": "9b4c278b-aaca-e92c-ba77-b9b48379d1f1",
        "_uuid": "c2b62e14d493c270ec8df9f3af1938c479361ef3",
        "id": "kzTWgjwBO6wO"
      },
      "source": [
        "2.1 Analyser l'effet de la variable Classe sur le taux de survie, en affichant le % de survie par classe"
      ]
    },
    {
      "cell_type": "code",
      "source": [
        "taux_survie_par_classe = train.groupby('Pclass')['Survived'].mean() * 100\n",
        "print(\"Taux de survie par classe :\")\n",
        "print(taux_survie_par_classe)"
      ],
      "metadata": {
        "id": "bPelXGqHU3b1",
        "outputId": "6b92303a-c0a8-459c-a701-4363c1b92ee1",
        "colab": {
          "base_uri": "https://localhost:8080/"
        }
      },
      "execution_count": 77,
      "outputs": [
        {
          "output_type": "stream",
          "name": "stdout",
          "text": [
            "Taux de survie par classe :\n",
            "Pclass\n",
            "1    62.962963\n",
            "2    47.282609\n",
            "3    24.236253\n",
            "Name: Survived, dtype: float64\n"
          ]
        }
      ]
    },
    {
      "cell_type": "code",
      "execution_count": 77,
      "metadata": {
        "id": "8tb6ISMhO6wP"
      },
      "outputs": [],
      "source": []
    },
    {
      "cell_type": "markdown",
      "metadata": {
        "_cell_guid": "4680d950-cf7d-a6ae-e813-535e2247d88e",
        "_uuid": "f02533e7b85bba0cca7fcf2cc598c8da92d7646d",
        "id": "-OYrbz78O6wP"
      },
      "source": [
        "2.2 Analyser l'effet de la variable Genre (Sex) sur le taux de survie, en affichant le % de survie par classe"
      ]
    },
    {
      "cell_type": "code",
      "execution_count": 78,
      "metadata": {
        "_cell_guid": "4680d950-cf7d-a6ae-e813-535e2247d88e",
        "_uuid": "f02533e7b85bba0cca7fcf2cc598c8da92d7646d",
        "id": "Lq3m-y6WO6wP",
        "colab": {
          "base_uri": "https://localhost:8080/"
        },
        "outputId": "99cb7f01-32e3-46b4-d202-3ee6394689a8"
      },
      "outputs": [
        {
          "output_type": "stream",
          "name": "stdout",
          "text": [
            "Taux de survie par sexe :\n",
            "Sex\n",
            "female    74.203822\n",
            "male      18.890815\n",
            "Name: Survived, dtype: float64\n"
          ]
        }
      ],
      "source": [
        "taux_survie_par_sexe = train.groupby('Sex')['Survived'].mean() * 100\n",
        "print(\"Taux de survie par sexe :\")\n",
        "print(taux_survie_par_sexe)"
      ]
    },
    {
      "cell_type": "markdown",
      "metadata": {
        "_cell_guid": "7c58b7ee-d6a1-0cc9-2346-81c47846a54a",
        "_uuid": "88185e9222c26d5d23caaeb209c18710a231b5f9",
        "id": "5YYRw58kO6wP"
      },
      "source": [
        "2.3 Calculer une nouvelle colonne FamilySize contenant la taille de la famille, pour les DataFrame train et Test. Afficher pour 10 exemples l'Id du passager, le nom, l'age, le sexe et la taille de la famille."
      ]
    },
    {
      "cell_type": "code",
      "execution_count": 79,
      "metadata": {
        "_cell_guid": "1a537f10-7cec-d0b7-8a34-fa9975655190",
        "_uuid": "ccc4a4cf7624dd4be450fd62ca3ad478d4e75696",
        "id": "Yi-KpL4NO6wP",
        "colab": {
          "base_uri": "https://localhost:8080/"
        },
        "outputId": "30bc99c9-3b73-4653-810a-8340755efd5c"
      },
      "outputs": [
        {
          "output_type": "stream",
          "name": "stdout",
          "text": [
            "Exemples Train :\n",
            "   PassengerId                                               Name   Age  \\\n",
            "0            1                            Braund, Mr. Owen Harris  22.0   \n",
            "1            2  Cumings, Mrs. John Bradley (Florence Briggs Th...  38.0   \n",
            "2            3                             Heikkinen, Miss. Laina  26.0   \n",
            "3            4       Futrelle, Mrs. Jacques Heath (Lily May Peel)  35.0   \n",
            "4            5                           Allen, Mr. William Henry  35.0   \n",
            "5            6                                   Moran, Mr. James   NaN   \n",
            "6            7                            McCarthy, Mr. Timothy J  54.0   \n",
            "7            8                     Palsson, Master. Gosta Leonard   2.0   \n",
            "8            9  Johnson, Mrs. Oscar W (Elisabeth Vilhelmina Berg)  27.0   \n",
            "9           10                Nasser, Mrs. Nicholas (Adele Achem)  14.0   \n",
            "\n",
            "      Sex  FamilySize  \n",
            "0    male           2  \n",
            "1  female           2  \n",
            "2  female           1  \n",
            "3  female           2  \n",
            "4    male           1  \n",
            "5    male           1  \n",
            "6    male           1  \n",
            "7    male           5  \n",
            "8  female           3  \n",
            "9  female           2  \n",
            "\n",
            "----------------------------------------------------------------------------------\n",
            "\n",
            "Exemples Test :\n",
            "   PassengerId                                          Name   Age     Sex  \\\n",
            "0          892                              Kelly, Mr. James  34.5    male   \n",
            "1          893              Wilkes, Mrs. James (Ellen Needs)  47.0  female   \n",
            "2          894                     Myles, Mr. Thomas Francis  62.0    male   \n",
            "3          895                              Wirz, Mr. Albert  27.0    male   \n",
            "4          896  Hirvonen, Mrs. Alexander (Helga E Lindqvist)  22.0  female   \n",
            "5          897                    Svensson, Mr. Johan Cervin  14.0    male   \n",
            "6          898                          Connolly, Miss. Kate  30.0  female   \n",
            "7          899                  Caldwell, Mr. Albert Francis  26.0    male   \n",
            "8          900     Abrahim, Mrs. Joseph (Sophie Halaut Easu)  18.0  female   \n",
            "9          901                       Davies, Mr. John Samuel  21.0    male   \n",
            "\n",
            "   FamilySize  \n",
            "0           1  \n",
            "1           2  \n",
            "2           1  \n",
            "3           1  \n",
            "4           3  \n",
            "5           1  \n",
            "6           1  \n",
            "7           3  \n",
            "8           1  \n",
            "9           3  \n"
          ]
        }
      ],
      "source": [
        "train['FamilySize'] = train['SibSp'] + train['Parch'] + 1\n",
        "test['FamilySize'] = test['SibSp'] + test['Parch'] + 1\n",
        "\n",
        "columns = ['PassengerId', 'Name', 'Age', 'Sex', 'FamilySize']\n",
        "print(\"Exemples Train :\")\n",
        "print(train[columns].head(10))\n",
        "\n",
        "print(\"\\n----------------------------------------------------------------------------------\")\n",
        "\n",
        "print(\"\\nExemples Test :\")\n",
        "print(test[columns].head(10))"
      ]
    },
    {
      "cell_type": "markdown",
      "metadata": {
        "id": "ahWjrfp9O6wP"
      },
      "source": [
        "2.4 Visualisez le nombre de personnes et le taux de survie par taille de famille."
      ]
    },
    {
      "cell_type": "code",
      "execution_count": 80,
      "metadata": {
        "_cell_guid": "1a537f10-7cec-d0b7-8a34-fa9975655190",
        "_uuid": "ccc4a4cf7624dd4be450fd62ca3ad478d4e75696",
        "id": "kqoRY0Z4O6wP",
        "colab": {
          "base_uri": "https://localhost:8080/"
        },
        "outputId": "9a3d4eda-18be-45d4-ce0c-6968a7c5f1dd"
      },
      "outputs": [
        {
          "output_type": "stream",
          "name": "stdout",
          "text": [
            "Taux de survie par sexe :\n",
            "FamilySize\n",
            "1     30.353818\n",
            "2     55.279503\n",
            "3     57.843137\n",
            "4     72.413793\n",
            "5     20.000000\n",
            "6     13.636364\n",
            "7     33.333333\n",
            "8      0.000000\n",
            "11     0.000000\n",
            "Name: Survived, dtype: float64\n"
          ]
        }
      ],
      "source": [
        "taux_survie_par_sexe = train.groupby('FamilySize')['Survived'].mean() * 100\n",
        "print(\"Taux de survie par sexe :\")\n",
        "print(taux_survie_par_sexe)"
      ]
    },
    {
      "cell_type": "markdown",
      "metadata": {
        "_cell_guid": "7c58b7ee-d6a1-0cc9-2346-81c47846a54a",
        "_uuid": "88185e9222c26d5d23caaeb209c18710a231b5f9",
        "id": "J7oKi-ckO6wP"
      },
      "source": [
        "2.5 Calculer une nouvelle colonne IsAlone indiquant si le passager est seul ou pas, pour les DataFrame train et Test. Afficher pour 10 exemples l'Id du passager, le nom, l'age, le sexe et le status IsAlone."
      ]
    },
    {
      "cell_type": "code",
      "execution_count": 81,
      "metadata": {
        "_cell_guid": "8c35e945-c928-e3bc-bd9c-d6ddb287e4c9",
        "_uuid": "87f79dc0711c29f39c0db1a4f7a2e8a84c0c7edb",
        "id": "8l2AvuwMO6wP",
        "colab": {
          "base_uri": "https://localhost:8080/"
        },
        "outputId": "973e835a-c317-45b9-a4c2-8fe8089b13f4"
      },
      "outputs": [
        {
          "output_type": "stream",
          "name": "stdout",
          "text": [
            "Exemples Train :\n",
            "   PassengerId                                               Name   Age  \\\n",
            "0            1                            Braund, Mr. Owen Harris  22.0   \n",
            "1            2  Cumings, Mrs. John Bradley (Florence Briggs Th...  38.0   \n",
            "2            3                             Heikkinen, Miss. Laina  26.0   \n",
            "3            4       Futrelle, Mrs. Jacques Heath (Lily May Peel)  35.0   \n",
            "4            5                           Allen, Mr. William Henry  35.0   \n",
            "5            6                                   Moran, Mr. James   NaN   \n",
            "6            7                            McCarthy, Mr. Timothy J  54.0   \n",
            "7            8                     Palsson, Master. Gosta Leonard   2.0   \n",
            "8            9  Johnson, Mrs. Oscar W (Elisabeth Vilhelmina Berg)  27.0   \n",
            "9           10                Nasser, Mrs. Nicholas (Adele Achem)  14.0   \n",
            "\n",
            "      Sex  IsAlone  \n",
            "0    male    False  \n",
            "1  female    False  \n",
            "2  female     True  \n",
            "3  female    False  \n",
            "4    male     True  \n",
            "5    male     True  \n",
            "6    male     True  \n",
            "7    male    False  \n",
            "8  female    False  \n",
            "9  female    False  \n",
            "\n",
            "----------------------------------------------------------------------------------\n",
            "\n",
            "Exemples Test :\n",
            "   PassengerId                                          Name   Age     Sex  \\\n",
            "0          892                              Kelly, Mr. James  34.5    male   \n",
            "1          893              Wilkes, Mrs. James (Ellen Needs)  47.0  female   \n",
            "2          894                     Myles, Mr. Thomas Francis  62.0    male   \n",
            "3          895                              Wirz, Mr. Albert  27.0    male   \n",
            "4          896  Hirvonen, Mrs. Alexander (Helga E Lindqvist)  22.0  female   \n",
            "5          897                    Svensson, Mr. Johan Cervin  14.0    male   \n",
            "6          898                          Connolly, Miss. Kate  30.0  female   \n",
            "7          899                  Caldwell, Mr. Albert Francis  26.0    male   \n",
            "8          900     Abrahim, Mrs. Joseph (Sophie Halaut Easu)  18.0  female   \n",
            "9          901                       Davies, Mr. John Samuel  21.0    male   \n",
            "\n",
            "   IsAlone  \n",
            "0     True  \n",
            "1    False  \n",
            "2     True  \n",
            "3     True  \n",
            "4    False  \n",
            "5     True  \n",
            "6     True  \n",
            "7    False  \n",
            "8     True  \n",
            "9    False  \n"
          ]
        }
      ],
      "source": [
        "train['IsAlone'] = train['FamilySize'] - 1 == 0\n",
        "test['IsAlone'] = test['FamilySize'] - 1 == 0\n",
        "\n",
        "columns = ['PassengerId', 'Name', 'Age', 'Sex', 'IsAlone']\n",
        "print(\"Exemples Train :\")\n",
        "print(train[columns].head(10))\n",
        "\n",
        "print(\"\\n----------------------------------------------------------------------------------\")\n",
        "\n",
        "print(\"\\nExemples Test :\")\n",
        "print(test[columns].head(10))"
      ]
    },
    {
      "cell_type": "markdown",
      "metadata": {
        "id": "JbX3TcS9O6wP"
      },
      "source": [
        "2.6 Visualisez le nombre de personnes et le taux de survie par statut seul ou pas."
      ]
    },
    {
      "cell_type": "code",
      "execution_count": 82,
      "metadata": {
        "_cell_guid": "8c35e945-c928-e3bc-bd9c-d6ddb287e4c9",
        "_uuid": "87f79dc0711c29f39c0db1a4f7a2e8a84c0c7edb",
        "id": "UgkSUtxfO6wP",
        "colab": {
          "base_uri": "https://localhost:8080/"
        },
        "outputId": "155ffb32-0750-45c8-c27b-f405b78eb73a"
      },
      "outputs": [
        {
          "output_type": "stream",
          "name": "stdout",
          "text": [
            "Taux de survie par statut :\n",
            "Survived\n",
            "0    68.123862\n",
            "1    47.660819\n",
            "Name: IsAlone, dtype: float64\n"
          ]
        }
      ],
      "source": [
        "taux_survie_par_statut = train.groupby('Survived')['IsAlone'].mean() * 100\n",
        "print(\"Taux de survie par statut :\")\n",
        "print(taux_survie_par_statut)\n",
        "\n",
        "\n",
        "\n"
      ]
    },
    {
      "cell_type": "markdown",
      "metadata": {
        "id": "GgvCtfEiO6wP"
      },
      "source": [
        "2.7 Calculer l'information mutuelle sur les données train.\n",
        "\n",
        "Attention : Il y a des données continues et des données discrètes\n",
        "\n",
        "Ignorer les colonnes Name, Ticket et Cabin"
      ]
    },
    {
      "cell_type": "code",
      "execution_count": 82,
      "metadata": {
        "id": "dBaYfbTeO6wQ"
      },
      "outputs": [],
      "source": []
    },
    {
      "cell_type": "markdown",
      "metadata": {
        "id": "YJwRfcDwO6wQ"
      },
      "source": [
        "2.8 Afficher dans un graphique les scores d'information mutuelle par feature"
      ]
    },
    {
      "cell_type": "code",
      "execution_count": 82,
      "metadata": {
        "id": "Ul96PsS1O6wQ"
      },
      "outputs": [],
      "source": []
    },
    {
      "cell_type": "markdown",
      "metadata": {
        "id": "Trqv7QHtO6wQ"
      },
      "source": [
        "### Question 1 : La variable Classe est-elle utile pour prévoir la survie ? Pourquoi ?\n",
        "\n",
        "Oui, la variable Pclass  est utile pour prévoir la survie. Car les analyses montrent clairement la diférence de taux de survie entre les classes.\n",
        "\n",
        "### Question 2 : Même question pour la variable Sex\n",
        "\n",
        "Oui, la variable Sex est très utile pour prévoir la survie. Car grâce à cela, on a pu constater que les femmes ont un taux de survie bien plus élevé que les hommes.\n",
        "\n",
        "### Question 3 : Comment traiter le variables liées à la famille du passager ?\n",
        "\n",
        "\n",
        "\n"
      ]
    },
    {
      "cell_type": "markdown",
      "metadata": {
        "id": "4Q2WkCZkO6wQ"
      },
      "source": [
        "## 3. Traitement des données manquantes (à faire sur les données Train et Test)"
      ]
    },
    {
      "cell_type": "markdown",
      "source": [],
      "metadata": {
        "id": "YMciLLS-_XJY"
      }
    },
    {
      "cell_type": "markdown",
      "source": [],
      "metadata": {
        "id": "80Pp82_BcNli"
      }
    },
    {
      "cell_type": "markdown",
      "metadata": {
        "_cell_guid": "8aa419c0-6614-7efc-7797-97f4a5158b19",
        "_uuid": "dd18a31086cfeca6330b05f83caf3cc02f687253",
        "id": "nzH8Xd5gO6wQ"
      },
      "source": [
        "3.1 La variable \"Embarked\" possède des valeurs nulles, compléter par la valeur majoritaire (S)."
      ]
    },
    {
      "cell_type": "code",
      "execution_count": 83,
      "metadata": {
        "_cell_guid": "0e70e9af-d7cc-8c40-b7d4-2643889c376d",
        "_uuid": "b4f7ccb3df98da6915bda1c7c225b905fc37845b",
        "id": "NslnIjy-O6wQ",
        "colab": {
          "base_uri": "https://localhost:8080/",
          "height": 493
        },
        "outputId": "50aca7d3-d00c-4f8e-a2bb-4c5e48faaa5b"
      },
      "outputs": [
        {
          "output_type": "stream",
          "name": "stdout",
          "text": [
            "0 Valeurs nulles dans Embarked pour la variable test\n",
            "2 Valeurs nulles dans Embarked pour la variable train\n"
          ]
        },
        {
          "output_type": "execute_result",
          "data": {
            "text/plain": [
              "0      S\n",
              "1      C\n",
              "2      S\n",
              "3      S\n",
              "4      S\n",
              "      ..\n",
              "886    S\n",
              "887    S\n",
              "888    S\n",
              "889    C\n",
              "890    Q\n",
              "Name: Embarked, Length: 891, dtype: object"
            ],
            "text/html": [
              "<div>\n",
              "<style scoped>\n",
              "    .dataframe tbody tr th:only-of-type {\n",
              "        vertical-align: middle;\n",
              "    }\n",
              "\n",
              "    .dataframe tbody tr th {\n",
              "        vertical-align: top;\n",
              "    }\n",
              "\n",
              "    .dataframe thead th {\n",
              "        text-align: right;\n",
              "    }\n",
              "</style>\n",
              "<table border=\"1\" class=\"dataframe\">\n",
              "  <thead>\n",
              "    <tr style=\"text-align: right;\">\n",
              "      <th></th>\n",
              "      <th>Embarked</th>\n",
              "    </tr>\n",
              "  </thead>\n",
              "  <tbody>\n",
              "    <tr>\n",
              "      <th>0</th>\n",
              "      <td>S</td>\n",
              "    </tr>\n",
              "    <tr>\n",
              "      <th>1</th>\n",
              "      <td>C</td>\n",
              "    </tr>\n",
              "    <tr>\n",
              "      <th>2</th>\n",
              "      <td>S</td>\n",
              "    </tr>\n",
              "    <tr>\n",
              "      <th>3</th>\n",
              "      <td>S</td>\n",
              "    </tr>\n",
              "    <tr>\n",
              "      <th>4</th>\n",
              "      <td>S</td>\n",
              "    </tr>\n",
              "    <tr>\n",
              "      <th>...</th>\n",
              "      <td>...</td>\n",
              "    </tr>\n",
              "    <tr>\n",
              "      <th>886</th>\n",
              "      <td>S</td>\n",
              "    </tr>\n",
              "    <tr>\n",
              "      <th>887</th>\n",
              "      <td>S</td>\n",
              "    </tr>\n",
              "    <tr>\n",
              "      <th>888</th>\n",
              "      <td>S</td>\n",
              "    </tr>\n",
              "    <tr>\n",
              "      <th>889</th>\n",
              "      <td>C</td>\n",
              "    </tr>\n",
              "    <tr>\n",
              "      <th>890</th>\n",
              "      <td>Q</td>\n",
              "    </tr>\n",
              "  </tbody>\n",
              "</table>\n",
              "<p>891 rows × 1 columns</p>\n",
              "</div><br><label><b>dtype:</b> object</label>"
            ]
          },
          "metadata": {},
          "execution_count": 83
        }
      ],
      "source": [
        "#Vérifier les valeurs nulles\n",
        "print(test['Embarked'].isnull().sum(), \"Valeurs nulles dans Embarked pour la variable test\")\n",
        "print(train['Embarked'].isnull().sum(), \"Valeurs nulles dans Embarked pour la variable train\")\n",
        "\n",
        "#Remplir les valeurs nulles avec S\n",
        "train['Embarked'].fillna('S')\n",
        "train['Embarked'].fillna('S')\n"
      ]
    },
    {
      "cell_type": "markdown",
      "metadata": {
        "id": "Ch43SREsO6wR"
      },
      "source": [
        "3.2 Afficher l'influence du port d'embarquement sur la Survie"
      ]
    },
    {
      "cell_type": "code",
      "source": [],
      "metadata": {
        "id": "n3eZTnpv_uQO"
      },
      "execution_count": 83,
      "outputs": []
    },
    {
      "cell_type": "code",
      "execution_count": 84,
      "metadata": {
        "_cell_guid": "0e70e9af-d7cc-8c40-b7d4-2643889c376d",
        "_uuid": "b4f7ccb3df98da6915bda1c7c225b905fc37845b",
        "id": "h-Lf-RqmO6wR",
        "outputId": "23d549e4-77cf-4494-92d8-47ea698d95c5",
        "colab": {
          "base_uri": "https://localhost:8080/"
        }
      },
      "outputs": [
        {
          "output_type": "stream",
          "name": "stdout",
          "text": [
            "Embarked\n",
            "C    0.553571\n",
            "Q    0.389610\n",
            "S    0.336957\n",
            "Name: Survived, dtype: float64\n"
          ]
        }
      ],
      "source": [
        "print(train.groupby('Embarked')['Survived'].mean())\n"
      ]
    },
    {
      "cell_type": "markdown",
      "metadata": {
        "_cell_guid": "e08c9ee8-d6d1-99b7-38bd-f0042c18a5d9",
        "_uuid": "bbeb369d4bb1b086fcc3257218fdeeb6bcdb53c0",
        "id": "Z6ApX7LgO6wR"
      },
      "source": [
        "3.3 La variable \"Fare\" (prix du ticket) possède des valeurs manquantes. Remplacer ces valeurs par la valeur médiane."
      ]
    },
    {
      "cell_type": "code",
      "execution_count": 85,
      "metadata": {
        "_cell_guid": "a21335bd-4e8d-66e8-e6a5-5d2173b72d3b",
        "_uuid": "f04975f236aad78d3f93812512088404b5c9280e",
        "id": "VNnu37tVO6wR",
        "colab": {
          "base_uri": "https://localhost:8080/"
        },
        "outputId": "c8dd1063-be14-4909-f39c-4340f7ad0d3b"
      },
      "outputs": [
        {
          "output_type": "stream",
          "name": "stdout",
          "text": [
            "1 Valeurs nulles dans Fare pour la variable test\n",
            "0 Valeurs nulles dans Fare pour la variable train\n",
            "\n",
            "--------------------------------------------------------------------------\n",
            "0 Valeurs nulles dans Fare pour la variable test après\n",
            "0 Valeurs nulles dans Fare pour la variable train après\n"
          ]
        }
      ],
      "source": [
        "#Vérifier le nombre de valeurs manquantes de Fare\n",
        "print(test['Fare'].isnull().sum(), \"Valeurs nulles dans Fare pour la variable test\")\n",
        "print(train['Fare'].isnull().sum(), \"Valeurs nulles dans Fare pour la variable train\")\n",
        "\n",
        "test.fillna(test['Fare'].median(), inplace=True)\n",
        "train.fillna(train['Fare'].median(), inplace=True)\n",
        "print(\"\\n--------------------------------------------------------------------------\")\n",
        "#Vérifier le nombre de valeurs manquantes de Fare\n",
        "print(test['Fare'].isnull().sum(), \"Valeurs nulles dans Fare pour la variable test après\")\n",
        "print(train['Fare'].isnull().sum(), \"Valeurs nulles dans Fare pour la variable train après\")"
      ]
    },
    {
      "cell_type": "markdown",
      "metadata": {
        "id": "lCPcvSyUO6wW"
      },
      "source": [
        "3.4 Créer une variable CategoricalFare Découpant la valeur de ticket en 4 catégories de tailles à peu près égales."
      ]
    },
    {
      "cell_type": "code",
      "execution_count": 86,
      "metadata": {
        "_cell_guid": "a21335bd-4e8d-66e8-e6a5-5d2173b72d3b",
        "_uuid": "f04975f236aad78d3f93812512088404b5c9280e",
        "id": "6B1ki_9TO6wW"
      },
      "outputs": [],
      "source": [
        "train['CategoricalFare'] = pd.cut(train['Fare'], 4, labels=['Low', 'Medium', 'High', 'Very High'])\n",
        "test['CategoricalFare'] = pd.cut(test['Fare'], 4, labels=['Low', 'Medium', 'High', 'Very High'])\n"
      ]
    },
    {
      "cell_type": "markdown",
      "source": [],
      "metadata": {
        "id": "EFjnYPKNCkgp"
      }
    },
    {
      "cell_type": "markdown",
      "metadata": {
        "id": "qKgZMWhPO6wW"
      },
      "source": [
        "\\\\3.5 Analyser l'effet de ces catégories de prix de ticket sur la survie."
      ]
    },
    {
      "cell_type": "code",
      "execution_count": 87,
      "metadata": {
        "_cell_guid": "a21335bd-4e8d-66e8-e6a5-5d2173b72d3b",
        "_uuid": "f04975f236aad78d3f93812512088404b5c9280e",
        "id": "hQuvZq_QO6wW",
        "colab": {
          "base_uri": "https://localhost:8080/"
        },
        "outputId": "86102d48-bf1f-4e21-afb7-6088fa320d72"
      },
      "outputs": [
        {
          "output_type": "stream",
          "name": "stdout",
          "text": [
            "Taux de survie par catégorie de prix de ticket :\n",
            "CategoricalFare\n",
            "Low          0.368113\n",
            "Medium       0.724138\n",
            "High         0.666667\n",
            "Very High    1.000000\n",
            "Name: Survived, dtype: float64\n"
          ]
        },
        {
          "output_type": "stream",
          "name": "stderr",
          "text": [
            "<ipython-input-87-739b99512a86>:2: FutureWarning: The default of observed=False is deprecated and will be changed to True in a future version of pandas. Pass observed=False to retain current behavior or observed=True to adopt the future default and silence this warning.\n",
            "  print(train.groupby('CategoricalFare')['Survived'].mean())\n"
          ]
        }
      ],
      "source": [
        "print(\"Taux de survie par catégorie de prix de ticket :\")\n",
        "print(train.groupby('CategoricalFare')['Survived'].mean())"
      ]
    },
    {
      "cell_type": "markdown",
      "metadata": {
        "id": "Pr9XIwC9O6wW"
      },
      "source": [
        "3.6 Combien de valeurs d'Age manquent ? Complète par des valeurs entières aléatoires entre (moyenne - écart type) et (moyenne + écart type)."
      ]
    },
    {
      "cell_type": "code",
      "execution_count": 88,
      "metadata": {
        "_cell_guid": "b90c2870-ce5d-ae0e-a33d-59e35445500e",
        "_uuid": "2af2b56d51752be08b84dbb2684466976758faa7",
        "id": "l3iKjvWPO6wW",
        "colab": {
          "base_uri": "https://localhost:8080/"
        },
        "outputId": "d36576d2-5e99-4bbc-ca1f-219b21557f28"
      },
      "outputs": [
        {
          "output_type": "stream",
          "name": "stdout",
          "text": [
            "0 valeurs d'âges manquantes dans la variable test\n",
            "0 valeurs d'âges manquantes dans la variable test\n"
          ]
        }
      ],
      "source": [
        "print(test['Age'].isnull().sum(), \"valeurs d'âges manquantes dans la variable test\")\n",
        "print(train['Age'].isnull().sum(), \"valeurs d'âges manquantes dans la variable test\")\n",
        "\n",
        "mean_age = train['Age'].mean()\n",
        "std_age = train['Age'].std() #écart type\n",
        "\n",
        "random_ages = np.random.randint(mean_age - std_age, mean_age + std_age)\n",
        "\n",
        "train.loc[train['Age'].isnull(), 'Age'] = random_ages"
      ]
    },
    {
      "cell_type": "markdown",
      "metadata": {
        "id": "Dq3uGGO8O6wW"
      },
      "source": [
        "3.7 Créer une variable CategoricalAge Découpant la valeur d'age en 5 tranches d'age de même taille."
      ]
    },
    {
      "cell_type": "code",
      "execution_count": 89,
      "metadata": {
        "_cell_guid": "b90c2870-ce5d-ae0e-a33d-59e35445500e",
        "_uuid": "2af2b56d51752be08b84dbb2684466976758faa7",
        "id": "mFXJk-8cO6wX",
        "colab": {
          "base_uri": "https://localhost:8080/"
        },
        "outputId": "a6fbf17e-1d87-4791-c181-ff8d9458fb9f"
      },
      "outputs": [
        {
          "output_type": "stream",
          "name": "stdout",
          "text": [
            "         Age CategoricalAge\n",
            "0    22.0000          Child\n",
            "1    38.0000       Teenager\n",
            "2    26.0000          Child\n",
            "3    35.0000       Teenager\n",
            "4    35.0000       Teenager\n",
            "..       ...            ...\n",
            "886  27.0000          Child\n",
            "887  19.0000          Child\n",
            "888  14.4542           Baby\n",
            "889  26.0000          Child\n",
            "890  32.0000          Child\n",
            "\n",
            "[891 rows x 2 columns]\n",
            "\n",
            "---------------------------------------\n",
            "         Age CategoricalAge\n",
            "0    34.5000       Teenager\n",
            "1    47.0000          Adult\n",
            "2    62.0000            Old\n",
            "3    27.0000          Child\n",
            "4    22.0000          Child\n",
            "..       ...            ...\n",
            "413  14.4542           Baby\n",
            "414  39.0000       Teenager\n",
            "415  38.5000       Teenager\n",
            "416  14.4542           Baby\n",
            "417  14.4542           Baby\n",
            "\n",
            "[418 rows x 2 columns]\n"
          ]
        }
      ],
      "source": [
        "train['CategoricalAge'] = pd.cut(train['Age'], 5, labels=['Baby', 'Child', 'Teenager', 'Adult', 'Old'])\n",
        "test['CategoricalAge'] = pd.cut(test['Age'], 5, labels=['Baby', 'Child', 'Teenager', 'Adult', 'Old'])\n",
        "\n",
        "print(train[['Age', 'CategoricalAge']])\n",
        "\n",
        "print(\"\\n---------------------------------------\")\n",
        "\n",
        "print(test[['Age', 'CategoricalAge']])"
      ]
    },
    {
      "cell_type": "markdown",
      "metadata": {
        "id": "shGUU_LaO6wX"
      },
      "source": [
        "3.8 Analyser l'effet de ces catégories de prix de ticket sur la survie."
      ]
    },
    {
      "cell_type": "code",
      "execution_count": 90,
      "metadata": {
        "id": "jEAdCINfO6wX",
        "colab": {
          "base_uri": "https://localhost:8080/"
        },
        "outputId": "9ba546d4-ca05-40ad-dd0e-fcc4676a100c"
      },
      "outputs": [
        {
          "output_type": "stream",
          "name": "stdout",
          "text": [
            "CategoricalAge\n",
            "Baby        0.386282\n",
            "Child       0.369942\n",
            "Teenager    0.404255\n",
            "Adult       0.434783\n",
            "Old         0.090909\n",
            "Name: Survived, dtype: float64\n"
          ]
        },
        {
          "output_type": "stream",
          "name": "stderr",
          "text": [
            "<ipython-input-90-502a5aae2cc1>:3: FutureWarning: The default of observed=False is deprecated and will be changed to True in a future version of pandas. Pass observed=False to retain current behavior or observed=True to adopt the future default and silence this warning.\n",
            "  print(train.groupby('CategoricalAge')['Survived'].mean())\n"
          ]
        }
      ],
      "source": [
        "#Déjà répondu à la question 3.4\n",
        "\n",
        "print(train.groupby('CategoricalAge')['Survived'].mean())\n"
      ]
    },
    {
      "cell_type": "markdown",
      "metadata": {
        "id": "vf69Q7-gO6wX"
      },
      "source": [
        "### Question 1 : Classer les variables par ordre d'intérêt"
      ]
    },
    {
      "cell_type": "markdown",
      "source": [
        "Par ordre d'intérêt, nous avons\n",
        " -> Sex\n",
        " -->Fare\n",
        " -> Pclass"
      ],
      "metadata": {
        "id": "gA6GK4ZoVQkd"
      }
    },
    {
      "cell_type": "markdown",
      "metadata": {
        "id": "CapBbCUvO6wX"
      },
      "source": [
        "## 4 : Traitement de features complexes"
      ]
    },
    {
      "cell_type": "markdown",
      "metadata": {
        "_cell_guid": "bd25ec3f-b601-c1cc-d701-991fac1621f9",
        "_uuid": "17f6d181260d68d89f0a5dfa99b40a82b723567c",
        "id": "hrUK-C-LO6wX"
      },
      "source": [
        "4.1 : Le nom permet de retrouver le titre du passager. Trouver les titres lorsqu'ils existent."
      ]
    },
    {
      "cell_type": "code",
      "execution_count": 91,
      "metadata": {
        "_cell_guid": "ad042f43-bfe0-ded0-4171-379d8caaa749",
        "_uuid": "5a56f5b4bad78d7e323167c5f0cc07cb3675187a",
        "id": "yGfJSrKqO6wX",
        "colab": {
          "base_uri": "https://localhost:8080/"
        },
        "outputId": "f68b5ce4-e524-4796-bf4b-f9000f29b003"
      },
      "outputs": [
        {
          "output_type": "stream",
          "name": "stdout",
          "text": [
            "Dataframe train :\n",
            "['Mr' 'Mrs' 'Miss' 'Master' 'Don' 'Rev' 'Dr' 'Mme' 'Ms' 'Major' 'Lady'\n",
            " 'Sir' 'Mlle' 'Col' 'Capt' 'the Countess' 'Jonkheer']\n",
            "\n",
            "-----------------------------------------------------------------------\n",
            "Dataframe test :\n",
            "['Mr' 'Mrs' 'Miss' 'Master' 'Ms' 'Col' 'Rev' 'Dr' 'Dona']\n"
          ]
        }
      ],
      "source": [
        "train['Title'] = train['Name'].str.extract(r',\\s*([^\\.]+)\\.')\n",
        "test['Title'] = test['Name'].str.extract(r',\\s*([^\\.]+)\\.')\n",
        "\n",
        "print('Dataframe train :')\n",
        "print(train['Title'].unique())\n",
        "\n",
        "print('\\n-----------------------------------------------------------------------')\n",
        "\n",
        "print('Dataframe test :')\n",
        "print(test['Title'].unique())"
      ]
    },
    {
      "cell_type": "markdown",
      "metadata": {
        "id": "bhTmXwLVO6wX"
      },
      "source": [
        "4.2 : En utilisant la fonction pandas crosstab, afficher pour train le nombre d'occurences par titres (en ligne) et par sexe (en colonne)"
      ]
    },
    {
      "cell_type": "code",
      "execution_count": 92,
      "metadata": {
        "id": "31X3BQE3O6wX",
        "colab": {
          "base_uri": "https://localhost:8080/"
        },
        "outputId": "dd3684d6-6f1e-4ca9-c1f6-bc9096c5f83a"
      },
      "outputs": [
        {
          "output_type": "stream",
          "name": "stdout",
          "text": [
            "Sex           female  male\n",
            "Title                     \n",
            "Capt               0     1\n",
            "Col                0     2\n",
            "Don                0     1\n",
            "Dr                 1     6\n",
            "Jonkheer           0     1\n",
            "Lady               1     0\n",
            "Major              0     2\n",
            "Master             0    40\n",
            "Miss             182     0\n",
            "Mlle               2     0\n",
            "Mme                1     0\n",
            "Mr                 0   517\n",
            "Mrs              125     0\n",
            "Ms                 1     0\n",
            "Rev                0     6\n",
            "Sir                0     1\n",
            "the Countess       1     0\n",
            "\n",
            "---------------------------------------------------\n",
            "Sex     female  male\n",
            "Title               \n",
            "Col          0     2\n",
            "Dona         1     0\n",
            "Dr           0     1\n",
            "Master       0    21\n",
            "Miss        78     0\n",
            "Mr           0   240\n",
            "Mrs         72     0\n",
            "Ms           1     0\n",
            "Rev          0     2\n"
          ]
        }
      ],
      "source": [
        "print(pd.crosstab(train['Title'], train['Sex']))\n",
        "\n",
        "print('\\n---------------------------------------------------')\n",
        "\n",
        "print(pd.crosstab(test['Title'], test['Sex']))"
      ]
    },
    {
      "cell_type": "markdown",
      "metadata": {
        "_cell_guid": "ca5fff8c-7a0d-6c18-2173-b8df6293c50a",
        "_uuid": "84862f8cbbe2ea72b69a9cba78c6b7e10c80626e",
        "id": "Ex9c7Q_TO6wY"
      },
      "source": [
        "4.3 :\n",
        "Remplacer 'Melle et 'Ms' par 'Miss'\n",
        "\n",
        "Remplacer 'Mme' par 'Mrs'\n",
        "\n",
        "Creer une valeur \"Rare\" pour les autres titres avec moins de 10 occurences.\n",
        "\n",
        "Calculer ensuite le taux de survie par titre"
      ]
    },
    {
      "cell_type": "code",
      "execution_count": 93,
      "metadata": {
        "_cell_guid": "8357238b-98fe-632a-acd5-33674a6132ce",
        "_uuid": "db0029466612ad0550fc0eebef4a06a5507d6c3d",
        "id": "roq-nl_gO6wY",
        "colab": {
          "base_uri": "https://localhost:8080/"
        },
        "outputId": "def9d8a0-1eb9-4837-a775-26c0248b1ab3"
      },
      "outputs": [
        {
          "output_type": "stream",
          "name": "stdout",
          "text": [
            "Title\n",
            "Capt            0.000000\n",
            "Col             0.500000\n",
            "Don             0.000000\n",
            "Dr              0.428571\n",
            "Jonkheer        0.000000\n",
            "Lady            1.000000\n",
            "Major           0.500000\n",
            "Master          0.575000\n",
            "Miss            0.702703\n",
            "Mr              0.156673\n",
            "Mrs             0.793651\n",
            "Rev             0.000000\n",
            "Sir             1.000000\n",
            "the Countess    1.000000\n",
            "Name: Survived, dtype: float64\n"
          ]
        }
      ],
      "source": [
        "#Faire les remplacements\n",
        "train[\"Title\"] = train[\"Title\"].replace([\"Mlle\", \"Ms\"], \"Miss\")\n",
        "train[\"Title\"] = train[\"Title\"].replace(\"Mme\", \"Mrs\")\n",
        "\n",
        "test[\"Title\"] = test[\"Title\"].replace([\"Mlle\", \"Ms\"], \"Miss\")\n",
        "test[\"Title\"] = test[\"Title\"].replace(\"Mme\", \"Mrs\")\n",
        "\n",
        "#Créer une valeur rare pour les titres avec moins de 10 occurences\n",
        "#je dois créer une valeur rare ? ou remplacer le titre par \"Rare\"\n",
        "\n",
        "\n",
        "#Calculer ensuite le taux de survie par titre\n",
        "print(train.groupby('Title')['Survived'].mean())"
      ]
    },
    {
      "cell_type": "markdown",
      "metadata": {
        "_cell_guid": "68fa2057-e27a-e252-0d1b-869c00a303ba",
        "_uuid": "52bcf7b36b8edb12d40f2a1f9e80060b55d91ad3",
        "id": "MI8gLGZVO6wY"
      },
      "source": [
        "## 5. Mise en forme des données non numériques"
      ]
    },
    {
      "cell_type": "markdown",
      "metadata": {
        "id": "XVmIVfIkO6wY"
      },
      "source": [
        "5.1 Attribuer une valeur numérique au Genre. Par exemple 0 pour 'female' et 1 pour 'male'"
      ]
    },
    {
      "cell_type": "code",
      "execution_count": 94,
      "metadata": {
        "id": "fe_COMdqO6wY",
        "colab": {
          "base_uri": "https://localhost:8080/"
        },
        "outputId": "c9744cfe-af7e-497f-b043-df1dc372c949"
      },
      "outputs": [
        {
          "output_type": "stream",
          "name": "stderr",
          "text": [
            "<ipython-input-94-5041fdbb683d>:1: FutureWarning: Downcasting behavior in `replace` is deprecated and will be removed in a future version. To retain the old behavior, explicitly call `result.infer_objects(copy=False)`. To opt-in to the future behavior, set `pd.set_option('future.no_silent_downcasting', True)`\n",
            "  train['Sex'] = train['Sex'].replace({'female': 0, 'male': 1})\n",
            "<ipython-input-94-5041fdbb683d>:2: FutureWarning: Downcasting behavior in `replace` is deprecated and will be removed in a future version. To retain the old behavior, explicitly call `result.infer_objects(copy=False)`. To opt-in to the future behavior, set `pd.set_option('future.no_silent_downcasting', True)`\n",
            "  test['Sex'] = test['Sex'].replace({'female': 0, 'male': 1})\n"
          ]
        }
      ],
      "source": [
        "train['Sex'] = train['Sex'].replace({'female': 0, 'male': 1})\n",
        "test['Sex'] = test['Sex'].replace({'female': 0, 'male': 1})"
      ]
    },
    {
      "cell_type": "markdown",
      "metadata": {
        "id": "rx9t4P0IO6wY"
      },
      "source": [
        "5.2 : Attribuer une valeur pour les possibilités de la variable \"Title\" ('Master','Miss','Mr','Mrs','Rare')"
      ]
    },
    {
      "cell_type": "code",
      "execution_count": 95,
      "metadata": {
        "id": "Mjvl5PJbO6wY",
        "colab": {
          "base_uri": "https://localhost:8080/"
        },
        "outputId": "d5fab433-867b-47e8-cdf1-1eb5c3c1f01e"
      },
      "outputs": [
        {
          "output_type": "stream",
          "name": "stdout",
          "text": [
            "Titres uniques dans train :\n",
            "['Mr' 'Mrs' 'Miss' 'Master' 'Don' 'Rev' 'Dr' 'Major' 'Lady' 'Sir' 'Col'\n",
            " 'Capt' 'the Countess' 'Jonkheer']\n",
            "\n",
            "Titres uniques dans test :\n",
            "['Mr' 'Mrs' 'Miss' 'Master' 'Col' 'Rev' 'Dr' 'Dona']\n",
            "     Title\n",
            "0        1\n",
            "1        3\n",
            "2        2\n",
            "3        3\n",
            "4        1\n",
            "..     ...\n",
            "886      7\n",
            "887      2\n",
            "888      2\n",
            "889      1\n",
            "890      1\n",
            "\n",
            "[891 rows x 1 columns]\n",
            "     Title\n",
            "0        1\n",
            "1        3\n",
            "2        1\n",
            "3        1\n",
            "4        3\n",
            "..     ...\n",
            "413      1\n",
            "414      8\n",
            "415      1\n",
            "416      1\n",
            "417      4\n",
            "\n",
            "[418 rows x 1 columns]\n",
            "[ 1  3  2  4  6  7 10 11 13 14 15 12 16  9]\n"
          ]
        },
        {
          "output_type": "stream",
          "name": "stderr",
          "text": [
            "<ipython-input-95-dc8c509209c8>:25: FutureWarning: Downcasting behavior in `replace` is deprecated and will be removed in a future version. To retain the old behavior, explicitly call `result.infer_objects(copy=False)`. To opt-in to the future behavior, set `pd.set_option('future.no_silent_downcasting', True)`\n",
            "  train['Title'] = train['Title'].replace(title_mapping)\n",
            "<ipython-input-95-dc8c509209c8>:26: FutureWarning: Downcasting behavior in `replace` is deprecated and will be removed in a future version. To retain the old behavior, explicitly call `result.infer_objects(copy=False)`. To opt-in to the future behavior, set `pd.set_option('future.no_silent_downcasting', True)`\n",
            "  test['Title'] = test['Title'].replace(title_mapping)\n"
          ]
        }
      ],
      "source": [
        "#Connaître toutes les valeurs possibles de la variable Title\n",
        "print(\"Titres uniques dans train :\")\n",
        "print(train['Title'].unique())\n",
        "\n",
        "print(\"\\nTitres uniques dans test :\")\n",
        "print(test['Title'].unique())\n",
        "\n",
        "title_mapping = {\"Mr\": 1,\n",
        "                 \"Miss\": 2,\n",
        "                 \"Mrs\": 3,\n",
        "                 \"Master\": 4,\n",
        "                 \"Rare\": 5,\n",
        "                 \"Don\": 6,\n",
        "                 \"Rev\" :7,\n",
        "                 \"Dona\":8,\n",
        "                 \"Jonkheer\": 9,\n",
        "                 \"Dr\": 10,\n",
        "                 \"Major\": 11,\n",
        "                 \"Capt\": 12,\n",
        "                 \"Lady\": 13,\n",
        "                 \"Sir\": 14,\n",
        "                 \"Col\": 15,\n",
        "                 \"the Countess\" : 16,\n",
        "                 }\n",
        "train['Title'] = train['Title'].replace(title_mapping)\n",
        "test['Title'] = test['Title'].replace(title_mapping)\n",
        "\n",
        "print(train[['Title']])\n",
        "print(test[['Title']])\n",
        "\n",
        "print(train['Title'].unique())\n"
      ]
    },
    {
      "cell_type": "markdown",
      "metadata": {
        "id": "W7_2K3oDO6wY"
      },
      "source": [
        "5.3 Remplacer les titres manquant par 0, et attribuer à la colonne le type entier"
      ]
    },
    {
      "cell_type": "code",
      "execution_count": 96,
      "metadata": {
        "id": "f2rviUiWO6wY"
      },
      "outputs": [],
      "source": [
        "\n",
        "train['Title'].fillna(0)\n",
        "test['Title'].fillna(0)\n",
        "\n",
        "train['Title'] = train['Title'].astype(int)\n",
        "test['Title'] = test['Title'].astype(int)\n"
      ]
    },
    {
      "cell_type": "markdown",
      "metadata": {
        "id": "9tiCB7M4O6wY"
      },
      "source": [
        "5.4 Attribuer une valeur numérique aux 4 catégories de la variable Fare"
      ]
    },
    {
      "cell_type": "code",
      "source": [],
      "metadata": {
        "id": "mOp8YCmraIWH"
      },
      "execution_count": 96,
      "outputs": []
    },
    {
      "cell_type": "code",
      "execution_count": 97,
      "metadata": {
        "id": "6ykTGcSaO6wY",
        "outputId": "5ce7d9b5-8327-4350-ced6-d9e1351dc1b3",
        "colab": {
          "base_uri": "https://localhost:8080/"
        }
      },
      "outputs": [
        {
          "output_type": "stream",
          "name": "stdout",
          "text": [
            "0      7.2500\n",
            "1     71.2833\n",
            "2      7.9250\n",
            "3     53.1000\n",
            "4      8.0500\n",
            "       ...   \n",
            "95     8.0500\n",
            "96    34.6542\n",
            "97    63.3583\n",
            "98    23.0000\n",
            "99    26.0000\n",
            "Name: Fare, Length: 100, dtype: float64\n",
            "[  7.25    71.2833   7.925   53.1      8.05     8.4583  51.8625  21.075\n",
            "  11.1333  30.0708  16.7     26.55    31.275    7.8542  16.      29.125\n",
            "  13.      18.       7.225   26.       8.0292  35.5     31.3875 263.\n",
            "   7.8792   7.8958  27.7208 146.5208   7.75    10.5     82.1708  52.\n",
            "   7.2292  11.2417   9.475   21.      41.5792  15.5     21.6792  17.8\n",
            "  39.6875   7.8     76.7292  61.9792  27.75    46.9     80.      83.475\n",
            "  27.9     15.2458   8.1583   8.6625  73.5     14.4542  56.4958   7.65\n",
            "  29.      12.475    9.       9.5      7.7875  47.1     15.85    34.375\n",
            "  61.175   20.575   34.6542  63.3583  23.      77.2875   8.6542   7.775\n",
            "  24.15     9.825   14.4583 247.5208   7.1417  22.3583   6.975    7.05\n",
            "  14.5     15.0458  26.2833   9.2167  79.2      6.75    11.5     36.75\n",
            "   7.7958  12.525   66.6      7.3125  61.3792   7.7333  69.55    16.1\n",
            "  15.75    20.525   55.      25.925   33.5     30.6958  25.4667  28.7125\n",
            "   0.      15.05    39.      22.025   50.       8.4042   6.4958  10.4625\n",
            "  18.7875  31.     113.275   27.      76.2917  90.       9.35    13.5\n",
            "   7.55    26.25    12.275    7.125   52.5542  20.2125  86.5    512.3292\n",
            "  79.65   153.4625 135.6333  19.5     29.7     77.9583  20.25    78.85\n",
            "  91.0792  12.875    8.85   151.55    30.5     23.25    12.35   110.8833\n",
            " 108.9     24.      56.9292  83.1583 262.375   14.     164.8667 134.5\n",
            "   6.2375  57.9792  28.5    133.65    15.9      9.225   35.      75.25\n",
            "  69.3     55.4417 211.5      4.0125 227.525   15.7417   7.7292  12.\n",
            " 120.      12.65    18.75     6.8583  32.5      7.875   14.4     55.9\n",
            "   8.1125  81.8583  19.2583  19.9667  89.1042  38.5      7.725   13.7917\n",
            "   9.8375   7.0458   7.5208  12.2875   9.5875  49.5042  78.2667  15.1\n",
            "   7.6292  22.525   26.2875  59.4      7.4958  34.0208  93.5    221.7792\n",
            " 106.425   49.5     71.      13.8625   7.8292  39.6     17.4     51.4792\n",
            "  26.3875  30.      40.125    8.7125  15.      33.      42.4     15.55\n",
            "  65.      32.3208   7.0542   8.4333  25.5875   9.8417   8.1375  10.1708\n",
            " 211.3375  57.      13.4167   7.7417   9.4833   7.7375   8.3625  23.45\n",
            "  25.9292   8.6833   8.5167   7.8875  37.0042   6.45     6.95     8.3\n",
            "   6.4375  39.4     14.1083  13.8583  50.4958   5.       9.8458  10.5167]\n"
          ]
        }
      ],
      "source": [
        "mapping = {'Low': 1, 'Medium': 2, 'High': 3, 'Very High': 4}\n",
        "train[\"CategoricalFare\"] = train[\"CategoricalFare\"].map(mapping)\n",
        "test[\"CategoricalFare\"] = test[\"CategoricalFare\"].map(mapping)\n",
        "print(train[\"Fare\"].head(100))\n",
        "\n",
        "print(train[\"Fare\"].unique())"
      ]
    },
    {
      "cell_type": "markdown",
      "metadata": {
        "id": "HAYDy6mKO6wY"
      },
      "source": [
        "5.5 Attibuer une valeur numérique au Port d'embarquement (Embarked)"
      ]
    },
    {
      "cell_type": "code",
      "execution_count": 98,
      "metadata": {
        "id": "iVWhY-yuO6wZ"
      },
      "outputs": [],
      "source": [
        "embarked = {'S': 0, 'C': 1, 'Q': 2}\n",
        "train['Embarked'] = train['Embarked'].map(embarked)\n",
        "test['Embarked'] = test['Embarked'].map(embarked)"
      ]
    },
    {
      "cell_type": "markdown",
      "metadata": {
        "id": "VsTqGfoxO6wZ"
      },
      "source": [
        "5.6 Supprimer les features inutiles"
      ]
    },
    {
      "cell_type": "code",
      "execution_count": 99,
      "metadata": {
        "id": "qkDwcAeiO6wZ"
      },
      "outputs": [],
      "source": [
        "columns_dropped = ['Name', 'Ticket', 'Cabin']\n",
        "train.drop(columns=columns_dropped, inplace=True)\n",
        "test.drop(columns=columns_dropped, inplace=True)\n",
        "\n"
      ]
    },
    {
      "cell_type": "markdown",
      "metadata": {
        "id": "GYKsyWiZO6wZ"
      },
      "source": [
        "5.7 Afficher les infos pour les deux datasets"
      ]
    },
    {
      "cell_type": "code",
      "execution_count": 101,
      "metadata": {
        "id": "nSqEHlheO6wa",
        "outputId": "e58c5629-3a97-4219-d13c-09ed69906cd7",
        "colab": {
          "base_uri": "https://localhost:8080/"
        }
      },
      "outputs": [
        {
          "output_type": "stream",
          "name": "stdout",
          "text": [
            "\n",
            "Informations sur le dataset train :\n",
            "<class 'pandas.core.frame.DataFrame'>\n",
            "RangeIndex: 891 entries, 0 to 890\n",
            "Data columns (total 14 columns):\n",
            " #   Column           Non-Null Count  Dtype   \n",
            "---  ------           --------------  -----   \n",
            " 0   PassengerId      891 non-null    int64   \n",
            " 1   Survived         891 non-null    int64   \n",
            " 2   Pclass           891 non-null    int64   \n",
            " 3   Sex              891 non-null    int64   \n",
            " 4   Age              891 non-null    float64 \n",
            " 5   SibSp            891 non-null    int64   \n",
            " 6   Parch            891 non-null    int64   \n",
            " 7   Fare             891 non-null    float64 \n",
            " 8   Embarked         889 non-null    float64 \n",
            " 9   FamilySize       891 non-null    int64   \n",
            " 10  IsAlone          891 non-null    bool    \n",
            " 11  CategoricalFare  891 non-null    category\n",
            " 12  CategoricalAge   891 non-null    category\n",
            " 13  Title            891 non-null    int64   \n",
            "dtypes: bool(1), category(2), float64(3), int64(8)\n",
            "memory usage: 79.7 KB\n",
            "None\n",
            "\n",
            "Informations sur le dataset test :\n",
            "<class 'pandas.core.frame.DataFrame'>\n",
            "RangeIndex: 418 entries, 0 to 417\n",
            "Data columns (total 13 columns):\n",
            " #   Column           Non-Null Count  Dtype   \n",
            "---  ------           --------------  -----   \n",
            " 0   PassengerId      418 non-null    int64   \n",
            " 1   Pclass           418 non-null    int64   \n",
            " 2   Sex              418 non-null    int64   \n",
            " 3   Age              418 non-null    float64 \n",
            " 4   SibSp            418 non-null    int64   \n",
            " 5   Parch            418 non-null    int64   \n",
            " 6   Fare             418 non-null    float64 \n",
            " 7   Embarked         418 non-null    int64   \n",
            " 8   FamilySize       418 non-null    int64   \n",
            " 9   IsAlone          418 non-null    bool    \n",
            " 10  CategoricalFare  418 non-null    category\n",
            " 11  CategoricalAge   418 non-null    category\n",
            " 12  Title            418 non-null    int64   \n",
            "dtypes: bool(1), category(2), float64(2), int64(8)\n",
            "memory usage: 34.4 KB\n",
            "None\n"
          ]
        }
      ],
      "source": [
        "print(\"\\nInformations sur le dataset train :\")\n",
        "print(train.info())\n",
        "\n",
        "print(\"\\nInformations sur le dataset test :\")\n",
        "print(test.info())"
      ]
    },
    {
      "cell_type": "markdown",
      "metadata": {
        "id": "PEy2JDPgO6wa"
      },
      "source": [
        "5.8 Sauver les deux datasets dans des fichier csv. Eviter d'écrire un index (n° de ligne)"
      ]
    },
    {
      "cell_type": "code",
      "execution_count": 102,
      "metadata": {
        "_cell_guid": "2502bb70-ce6f-2497-7331-7d1f80521470",
        "_uuid": "1aa110c1043f1f43c091a771abc64054a211f784",
        "id": "5O6kHaL6O6wa",
        "outputId": "874c46f3-87f8-4632-f074-97fec7a6d2bd",
        "colab": {
          "base_uri": "https://localhost:8080/"
        }
      },
      "outputs": [
        {
          "output_type": "stream",
          "name": "stdout",
          "text": [
            "Datasets sauvegardés et travail terminé\n"
          ]
        }
      ],
      "source": [
        "train.to_csv('train_cleaned.csv', index=False)\n",
        "test.to_csv('test_cleaned.csv', index=False)\n",
        "\n",
        "print(\"Datasets sauvegardés et travail terminé\")"
      ]
    }
  ],
  "metadata": {
    "_change_revision": 0,
    "_is_fork": false,
    "kernelspec": {
      "display_name": "Python 3",
      "language": "python",
      "name": "python3"
    },
    "language_info": {
      "codemirror_mode": {
        "name": "ipython",
        "version": 3
      },
      "file_extension": ".py",
      "mimetype": "text/x-python",
      "name": "python",
      "nbconvert_exporter": "python",
      "pygments_lexer": "ipython3",
      "version": "3.7.4"
    },
    "colab": {
      "provenance": [],
      "include_colab_link": true
    }
  },
  "nbformat": 4,
  "nbformat_minor": 0
}