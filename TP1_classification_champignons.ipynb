{
  "cells": [
    {
      "cell_type": "markdown",
      "metadata": {
        "id": "ilwTtje2fs0a"
      },
      "source": [
        "## Machine Learning TP1 : Reconnaissance de Champignon"
      ]
    },
    {
      "cell_type": "markdown",
      "metadata": {
        "id": "mWzXLtyEfs0b"
      },
      "source": [
        "### Import des librairies"
      ]
    },
    {
      "cell_type": "code",
      "execution_count": null,
      "metadata": {
        "id": "KbewLZAefs0c"
      },
      "outputs": [],
      "source": [
        "import pandas as pd\n",
        "import numpy as np\n",
        "import os\n",
        "from IPython.display import Image, display\n",
        "\n",
        "from sklearn import preprocessing\n",
        "\n",
        "from sklearn.metrics import accuracy_score\n",
        "from sklearn import tree\n",
        "from sklearn import ensemble\n",
        "from sklearn.tree import export_graphviz\n",
        "# pd.set_option('display.max_rows', None) # Afficher toutes les lignes des dataframes\n",
        "# pd.set_option('display.max_columns', None) # Afficher toutes les lignes des dataframes"
      ]
    },
    {
      "cell_type": "markdown",
      "metadata": {
        "id": "YivfuaIafs0d"
      },
      "source": [
        "### 1. Preparation des données"
      ]
    },
    {
      "cell_type": "markdown",
      "metadata": {
        "id": "StliLTtlfs0d"
      },
      "source": [
        "1.1 importer et afficher les données dans un DataFrame.\n",
        "\n",
        "Afficher le nombre de champignons toxiques ou non.\n",
        "\n",
        "Vérifier qu'il n'y as pas de valeurs nulles"
      ]
    },
    {
      "cell_type": "code",
      "source": [
        "from google.colab import files\n",
        "import pandas as pd\n",
        "df = pd.read_csv(\"/content/drive/MyDrive/Copie de champignons.csv\")\n",
        "print(df)\n",
        "print ('Champignons toxiques')\n",
        "df.filter(df['toxicite'] == 'toxique')\n",
        "\n",
        ""
      ],
      "metadata": {
        "colab": {
          "base_uri": "https://localhost:8080/",
          "height": 1000
        },
        "id": "nlLR8pLAin9O",
        "outputId": "1184d327-a1d4-4bb2-c9eb-8f8754729811"
      },
      "execution_count": 12,
      "outputs": [
        {
          "output_type": "stream",
          "name": "stdout",
          "text": [
            "        toxicite surface-chapeau ecchymoses attache-lamelles taille-lamelles  \\\n",
            "0        toxique           lisse        oui            libre          étroit   \n",
            "1     comestible           lisse        oui            libre           large   \n",
            "2     comestible           lisse        oui            libre           large   \n",
            "3        toxique        écaillée        oui            libre          étroit   \n",
            "4     comestible           lisse        non            libre           large   \n",
            "...          ...             ...        ...              ...             ...   \n",
            "8119  comestible           lisse        non         adhérent           large   \n",
            "8120  comestible           lisse        non         adhérent           large   \n",
            "8121  comestible           lisse        non         adhérent           large   \n",
            "8122     toxique        écaillée        non            libre          étroit   \n",
            "8123  comestible           lisse        non         adhérent           large   \n",
            "\n",
            "       forme-pied surface-pied-sur-anneau couleur-pied-sur-anneau  \\\n",
            "0     élargissant                   lisse                   blanc   \n",
            "1     élargissant                   lisse                   blanc   \n",
            "2     élargissant                   lisse                   blanc   \n",
            "3     élargissant                   lisse                   blanc   \n",
            "4          effilé                   lisse                   blanc   \n",
            "...           ...                     ...                     ...   \n",
            "8119  élargissant                   lisse                  orange   \n",
            "8120  élargissant                   lisse                  orange   \n",
            "8121  élargissant                   lisse                  orange   \n",
            "8122       effilé                   lisse                   blanc   \n",
            "8123  élargissant                   lisse                  orange   \n",
            "\n",
            "     couleur-voile type-anneau  population  \n",
            "0            blanc     pendant   dispersée  \n",
            "1            blanc     pendant   nombreuse  \n",
            "2            blanc     pendant   nombreuse  \n",
            "3            blanc     pendant   dispersée  \n",
            "4            blanc       évasé   abondante  \n",
            "...            ...         ...         ...  \n",
            "8119        orange     pendant  clairsemée  \n",
            "8120          brun     pendant      variée  \n",
            "8121        orange     pendant  clairsemée  \n",
            "8122         blanc       évasé      variée  \n",
            "8123        orange     pendant  clairsemée  \n",
            "\n",
            "[8124 rows x 11 columns]\n",
            "Champignons toxiques\n"
          ]
        },
        {
          "output_type": "execute_result",
          "data": {
            "text/plain": [
              "Empty DataFrame\n",
              "Columns: []\n",
              "Index: [0, 1, 2, 3, 4, 5, 6, 7, 8, 9, 10, 11, 12, 13, 14, 15, 16, 17, 18, 19, 20, 21, 22, 23, 24, 25, 26, 27, 28, 29, 30, 31, 32, 33, 34, 35, 36, 37, 38, 39, 40, 41, 42, 43, 44, 45, 46, 47, 48, 49, 50, 51, 52, 53, 54, 55, 56, 57, 58, 59, 60, 61, 62, 63, 64, 65, 66, 67, 68, 69, 70, 71, 72, 73, 74, 75, 76, 77, 78, 79, 80, 81, 82, 83, 84, 85, 86, 87, 88, 89, 90, 91, 92, 93, 94, 95, 96, 97, 98, 99, ...]\n",
              "\n",
              "[8124 rows x 0 columns]"
            ],
            "text/html": [
              "\n",
              "  <div id=\"df-83c6c97c-fc56-496e-bc9f-f79719dba663\" class=\"colab-df-container\">\n",
              "    <div>\n",
              "<style scoped>\n",
              "    .dataframe tbody tr th:only-of-type {\n",
              "        vertical-align: middle;\n",
              "    }\n",
              "\n",
              "    .dataframe tbody tr th {\n",
              "        vertical-align: top;\n",
              "    }\n",
              "\n",
              "    .dataframe thead th {\n",
              "        text-align: right;\n",
              "    }\n",
              "</style>\n",
              "<table border=\"1\" class=\"dataframe\">\n",
              "  <thead>\n",
              "    <tr style=\"text-align: right;\">\n",
              "      <th></th>\n",
              "    </tr>\n",
              "  </thead>\n",
              "  <tbody>\n",
              "    <tr>\n",
              "      <th>0</th>\n",
              "    </tr>\n",
              "    <tr>\n",
              "      <th>1</th>\n",
              "    </tr>\n",
              "    <tr>\n",
              "      <th>2</th>\n",
              "    </tr>\n",
              "    <tr>\n",
              "      <th>3</th>\n",
              "    </tr>\n",
              "    <tr>\n",
              "      <th>4</th>\n",
              "    </tr>\n",
              "    <tr>\n",
              "      <th>...</th>\n",
              "    </tr>\n",
              "    <tr>\n",
              "      <th>8119</th>\n",
              "    </tr>\n",
              "    <tr>\n",
              "      <th>8120</th>\n",
              "    </tr>\n",
              "    <tr>\n",
              "      <th>8121</th>\n",
              "    </tr>\n",
              "    <tr>\n",
              "      <th>8122</th>\n",
              "    </tr>\n",
              "    <tr>\n",
              "      <th>8123</th>\n",
              "    </tr>\n",
              "  </tbody>\n",
              "</table>\n",
              "<p>8124 rows × 0 columns</p>\n",
              "</div>\n",
              "    <div class=\"colab-df-buttons\">\n",
              "\n",
              "  <div class=\"colab-df-container\">\n",
              "    <button class=\"colab-df-convert\" onclick=\"convertToInteractive('df-83c6c97c-fc56-496e-bc9f-f79719dba663')\"\n",
              "            title=\"Convert this dataframe to an interactive table.\"\n",
              "            style=\"display:none;\">\n",
              "\n",
              "  <svg xmlns=\"http://www.w3.org/2000/svg\" height=\"24px\" viewBox=\"0 -960 960 960\">\n",
              "    <path d=\"M120-120v-720h720v720H120Zm60-500h600v-160H180v160Zm220 220h160v-160H400v160Zm0 220h160v-160H400v160ZM180-400h160v-160H180v160Zm440 0h160v-160H620v160ZM180-180h160v-160H180v160Zm440 0h160v-160H620v160Z\"/>\n",
              "  </svg>\n",
              "    </button>\n",
              "\n",
              "  <style>\n",
              "    .colab-df-container {\n",
              "      display:flex;\n",
              "      gap: 12px;\n",
              "    }\n",
              "\n",
              "    .colab-df-convert {\n",
              "      background-color: #E8F0FE;\n",
              "      border: none;\n",
              "      border-radius: 50%;\n",
              "      cursor: pointer;\n",
              "      display: none;\n",
              "      fill: #1967D2;\n",
              "      height: 32px;\n",
              "      padding: 0 0 0 0;\n",
              "      width: 32px;\n",
              "    }\n",
              "\n",
              "    .colab-df-convert:hover {\n",
              "      background-color: #E2EBFA;\n",
              "      box-shadow: 0px 1px 2px rgba(60, 64, 67, 0.3), 0px 1px 3px 1px rgba(60, 64, 67, 0.15);\n",
              "      fill: #174EA6;\n",
              "    }\n",
              "\n",
              "    .colab-df-buttons div {\n",
              "      margin-bottom: 4px;\n",
              "    }\n",
              "\n",
              "    [theme=dark] .colab-df-convert {\n",
              "      background-color: #3B4455;\n",
              "      fill: #D2E3FC;\n",
              "    }\n",
              "\n",
              "    [theme=dark] .colab-df-convert:hover {\n",
              "      background-color: #434B5C;\n",
              "      box-shadow: 0px 1px 3px 1px rgba(0, 0, 0, 0.15);\n",
              "      filter: drop-shadow(0px 1px 2px rgba(0, 0, 0, 0.3));\n",
              "      fill: #FFFFFF;\n",
              "    }\n",
              "  </style>\n",
              "\n",
              "    <script>\n",
              "      const buttonEl =\n",
              "        document.querySelector('#df-83c6c97c-fc56-496e-bc9f-f79719dba663 button.colab-df-convert');\n",
              "      buttonEl.style.display =\n",
              "        google.colab.kernel.accessAllowed ? 'block' : 'none';\n",
              "\n",
              "      async function convertToInteractive(key) {\n",
              "        const element = document.querySelector('#df-83c6c97c-fc56-496e-bc9f-f79719dba663');\n",
              "        const dataTable =\n",
              "          await google.colab.kernel.invokeFunction('convertToInteractive',\n",
              "                                                    [key], {});\n",
              "        if (!dataTable) return;\n",
              "\n",
              "        const docLinkHtml = 'Like what you see? Visit the ' +\n",
              "          '<a target=\"_blank\" href=https://colab.research.google.com/notebooks/data_table.ipynb>data table notebook</a>'\n",
              "          + ' to learn more about interactive tables.';\n",
              "        element.innerHTML = '';\n",
              "        dataTable['output_type'] = 'display_data';\n",
              "        await google.colab.output.renderOutput(dataTable, element);\n",
              "        const docLink = document.createElement('div');\n",
              "        docLink.innerHTML = docLinkHtml;\n",
              "        element.appendChild(docLink);\n",
              "      }\n",
              "    </script>\n",
              "  </div>\n",
              "\n",
              "\n",
              "<div id=\"df-cd7ee579-4c98-4d39-b79f-0c62f8c2f108\">\n",
              "  <button class=\"colab-df-quickchart\" onclick=\"quickchart('df-cd7ee579-4c98-4d39-b79f-0c62f8c2f108')\"\n",
              "            title=\"Suggest charts\"\n",
              "            style=\"display:none;\">\n",
              "\n",
              "<svg xmlns=\"http://www.w3.org/2000/svg\" height=\"24px\"viewBox=\"0 0 24 24\"\n",
              "     width=\"24px\">\n",
              "    <g>\n",
              "        <path d=\"M19 3H5c-1.1 0-2 .9-2 2v14c0 1.1.9 2 2 2h14c1.1 0 2-.9 2-2V5c0-1.1-.9-2-2-2zM9 17H7v-7h2v7zm4 0h-2V7h2v10zm4 0h-2v-4h2v4z\"/>\n",
              "    </g>\n",
              "</svg>\n",
              "  </button>\n",
              "\n",
              "<style>\n",
              "  .colab-df-quickchart {\n",
              "      --bg-color: #E8F0FE;\n",
              "      --fill-color: #1967D2;\n",
              "      --hover-bg-color: #E2EBFA;\n",
              "      --hover-fill-color: #174EA6;\n",
              "      --disabled-fill-color: #AAA;\n",
              "      --disabled-bg-color: #DDD;\n",
              "  }\n",
              "\n",
              "  [theme=dark] .colab-df-quickchart {\n",
              "      --bg-color: #3B4455;\n",
              "      --fill-color: #D2E3FC;\n",
              "      --hover-bg-color: #434B5C;\n",
              "      --hover-fill-color: #FFFFFF;\n",
              "      --disabled-bg-color: #3B4455;\n",
              "      --disabled-fill-color: #666;\n",
              "  }\n",
              "\n",
              "  .colab-df-quickchart {\n",
              "    background-color: var(--bg-color);\n",
              "    border: none;\n",
              "    border-radius: 50%;\n",
              "    cursor: pointer;\n",
              "    display: none;\n",
              "    fill: var(--fill-color);\n",
              "    height: 32px;\n",
              "    padding: 0;\n",
              "    width: 32px;\n",
              "  }\n",
              "\n",
              "  .colab-df-quickchart:hover {\n",
              "    background-color: var(--hover-bg-color);\n",
              "    box-shadow: 0 1px 2px rgba(60, 64, 67, 0.3), 0 1px 3px 1px rgba(60, 64, 67, 0.15);\n",
              "    fill: var(--button-hover-fill-color);\n",
              "  }\n",
              "\n",
              "  .colab-df-quickchart-complete:disabled,\n",
              "  .colab-df-quickchart-complete:disabled:hover {\n",
              "    background-color: var(--disabled-bg-color);\n",
              "    fill: var(--disabled-fill-color);\n",
              "    box-shadow: none;\n",
              "  }\n",
              "\n",
              "  .colab-df-spinner {\n",
              "    border: 2px solid var(--fill-color);\n",
              "    border-color: transparent;\n",
              "    border-bottom-color: var(--fill-color);\n",
              "    animation:\n",
              "      spin 1s steps(1) infinite;\n",
              "  }\n",
              "\n",
              "  @keyframes spin {\n",
              "    0% {\n",
              "      border-color: transparent;\n",
              "      border-bottom-color: var(--fill-color);\n",
              "      border-left-color: var(--fill-color);\n",
              "    }\n",
              "    20% {\n",
              "      border-color: transparent;\n",
              "      border-left-color: var(--fill-color);\n",
              "      border-top-color: var(--fill-color);\n",
              "    }\n",
              "    30% {\n",
              "      border-color: transparent;\n",
              "      border-left-color: var(--fill-color);\n",
              "      border-top-color: var(--fill-color);\n",
              "      border-right-color: var(--fill-color);\n",
              "    }\n",
              "    40% {\n",
              "      border-color: transparent;\n",
              "      border-right-color: var(--fill-color);\n",
              "      border-top-color: var(--fill-color);\n",
              "    }\n",
              "    60% {\n",
              "      border-color: transparent;\n",
              "      border-right-color: var(--fill-color);\n",
              "    }\n",
              "    80% {\n",
              "      border-color: transparent;\n",
              "      border-right-color: var(--fill-color);\n",
              "      border-bottom-color: var(--fill-color);\n",
              "    }\n",
              "    90% {\n",
              "      border-color: transparent;\n",
              "      border-bottom-color: var(--fill-color);\n",
              "    }\n",
              "  }\n",
              "</style>\n",
              "\n",
              "  <script>\n",
              "    async function quickchart(key) {\n",
              "      const quickchartButtonEl =\n",
              "        document.querySelector('#' + key + ' button');\n",
              "      quickchartButtonEl.disabled = true;  // To prevent multiple clicks.\n",
              "      quickchartButtonEl.classList.add('colab-df-spinner');\n",
              "      try {\n",
              "        const charts = await google.colab.kernel.invokeFunction(\n",
              "            'suggestCharts', [key], {});\n",
              "      } catch (error) {\n",
              "        console.error('Error during call to suggestCharts:', error);\n",
              "      }\n",
              "      quickchartButtonEl.classList.remove('colab-df-spinner');\n",
              "      quickchartButtonEl.classList.add('colab-df-quickchart-complete');\n",
              "    }\n",
              "    (() => {\n",
              "      let quickchartButtonEl =\n",
              "        document.querySelector('#df-cd7ee579-4c98-4d39-b79f-0c62f8c2f108 button');\n",
              "      quickchartButtonEl.style.display =\n",
              "        google.colab.kernel.accessAllowed ? 'block' : 'none';\n",
              "    })();\n",
              "  </script>\n",
              "</div>\n",
              "\n",
              "    </div>\n",
              "  </div>\n"
            ],
            "application/vnd.google.colaboratory.intrinsic+json": {
              "type": "dataframe",
              "summary": "{\n  \"name\": \"df\",\n  \"rows\": 8124,\n  \"fields\": []\n}"
            }
          },
          "metadata": {},
          "execution_count": 12
        }
      ]
    },
    {
      "cell_type": "code",
      "source": [
        "from google.colab import drive\n",
        "drive.mount('/content/drive')"
      ],
      "metadata": {
        "colab": {
          "base_uri": "https://localhost:8080/"
        },
        "id": "I8iwNiuxlj7R",
        "outputId": "9f6dfa7b-7a9d-442b-9031-4437bc54c796"
      },
      "execution_count": 9,
      "outputs": [
        {
          "output_type": "stream",
          "name": "stdout",
          "text": [
            "Drive already mounted at /content/drive; to attempt to forcibly remount, call drive.mount(\"/content/drive\", force_remount=True).\n"
          ]
        }
      ]
    },
    {
      "cell_type": "markdown",
      "metadata": {
        "id": "ada881yxfs0d"
      },
      "source": [
        "1.2 Encoder les données avec une colonne 1/0 par valeur possible.Eviter de générer une matrice \"sparse\"\\\n",
        "Afficher la taille des données (lignes x colonnes) et les noms de colonnes générées.\\\n",
        "https://scikit-learn.org/stable/modules/generated/sklearn.preprocessing.OneHotEncoder.html#sklearn.preprocessing.OneHotEncoder"
      ]
    },
    {
      "cell_type": "code",
      "execution_count": 1,
      "metadata": {
        "colab": {
          "base_uri": "https://localhost:8080/",
          "height": 211
        },
        "id": "m12CNHtHfs0e",
        "outputId": "b0c3e7fa-7068-430f-e050-6157180b97a1"
      },
      "outputs": [
        {
          "output_type": "error",
          "ename": "NameError",
          "evalue": "name 'np' is not defined",
          "traceback": [
            "\u001b[0;31m---------------------------------------------------------------------------\u001b[0m",
            "\u001b[0;31mNameError\u001b[0m                                 Traceback (most recent call last)",
            "\u001b[0;32m<ipython-input-1-dea5d6c28b75>\u001b[0m in \u001b[0;36m<cell line: 9>\u001b[0;34m()\u001b[0m\n\u001b[1;32m      7\u001b[0m \u001b[0;31m# You can then proceed to analyze or process the data as needed.\u001b[0m\u001b[0;34m\u001b[0m\u001b[0;34m\u001b[0m\u001b[0m\n\u001b[1;32m      8\u001b[0m \u001b[0;31m# For example, you can compute the mean or find the maximum value:\u001b[0m\u001b[0;34m\u001b[0m\u001b[0;34m\u001b[0m\u001b[0m\n\u001b[0;32m----> 9\u001b[0;31m \u001b[0mmean_value\u001b[0m \u001b[0;34m=\u001b[0m \u001b[0mnp\u001b[0m\u001b[0;34m.\u001b[0m\u001b[0mmean\u001b[0m\u001b[0;34m(\u001b[0m\u001b[0mdata_list\u001b[0m\u001b[0;34m)\u001b[0m\u001b[0;34m\u001b[0m\u001b[0;34m\u001b[0m\u001b[0m\n\u001b[0m\u001b[1;32m     10\u001b[0m \u001b[0mmax_value\u001b[0m \u001b[0;34m=\u001b[0m \u001b[0mnp\u001b[0m\u001b[0;34m.\u001b[0m\u001b[0mmax\u001b[0m\u001b[0;34m(\u001b[0m\u001b[0mdata_list\u001b[0m\u001b[0;34m)\u001b[0m\u001b[0;34m\u001b[0m\u001b[0;34m\u001b[0m\u001b[0m\n\u001b[1;32m     11\u001b[0m \u001b[0;34m\u001b[0m\u001b[0m\n",
            "\u001b[0;31mNameError\u001b[0m: name 'np' is not defined"
          ]
        }
      ],
      "source": [
        "# prompt: 4 5 3 7 9 0 32 14 9\n",
        "\n",
        "# Assuming the data is in a string or a list\n",
        "data = \"4 5 3 7 9 0 32 14 9\"\n",
        "data_list = [int(x) for x in data.split()]\n",
        "\n",
        "# You can then proceed to analyze or process the data as needed.\n",
        "# For example, you can compute the mean or find the maximum value:\n",
        "mean_value = np.mean(data_list)\n",
        "max_value = np.max(data_list)\n",
        "\n",
        "print(\"Mean value:\", mean_value)\n",
        "print(\"Max value:\", max_value)"
      ]
    },
    {
      "cell_type": "markdown",
      "metadata": {
        "id": "YITNZ-48fs0e"
      },
      "source": [
        "1.3 Créer un nouveau DataFrame avec les données et les noms de colonne. Mélanger les données. Afficher le résultat."
      ]
    },
    {
      "cell_type": "code",
      "execution_count": 1,
      "metadata": {
        "id": "uAjGzjZRfs0e"
      },
      "outputs": [],
      "source": []
    },
    {
      "cell_type": "markdown",
      "metadata": {
        "id": "Mimsw3tffs0e"
      },
      "source": [
        "1.4 Creer 4 jeux de données : train features et labels (70%) et dev features et labels (30%).\\\n",
        "Utiliser toxicite_toxique comme label. Ne pas garder de label (toxicite_toxique et toxicite_comestible) dans les features !"
      ]
    },
    {
      "cell_type": "code",
      "execution_count": 1,
      "metadata": {
        "id": "RvHfaHYtfs0f"
      },
      "outputs": [],
      "source": []
    },
    {
      "cell_type": "code",
      "source": [],
      "metadata": {
        "id": "vpxQmSX5ilTN"
      },
      "execution_count": null,
      "outputs": []
    },
    {
      "cell_type": "markdown",
      "metadata": {
        "id": "jGAbDchKfs0f"
      },
      "source": [
        "## 2. Arbre de décision"
      ]
    },
    {
      "cell_type": "markdown",
      "metadata": {
        "id": "ky9LT-3dfs0f"
      },
      "source": [
        "2.1 Entrainer un arbre de décision sur les données d'apprentissage. Afficher l'arbre obtenu en utilisant plot_tree."
      ]
    },
    {
      "cell_type": "code",
      "execution_count": null,
      "metadata": {
        "id": "J1AsMN5Dfs0f"
      },
      "outputs": [],
      "source": [
        "import matplotlib.pyplot as plt"
      ]
    },
    {
      "cell_type": "markdown",
      "metadata": {
        "id": "scwgR6Hrfs0f"
      },
      "source": [
        "2.2 Afficher l'arbre obtenu en utilisant graphwiz"
      ]
    },
    {
      "cell_type": "code",
      "execution_count": null,
      "metadata": {
        "id": "Jzjl75r2fs0f"
      },
      "outputs": [],
      "source": []
    },
    {
      "cell_type": "markdown",
      "metadata": {
        "id": "FpRtYdE2fs0f"
      },
      "source": [
        "2.3 Mesurer la précision du modèle sur les données de dev"
      ]
    },
    {
      "cell_type": "code",
      "execution_count": null,
      "metadata": {
        "id": "qXCLi6gkfs0f"
      },
      "outputs": [],
      "source": []
    },
    {
      "cell_type": "markdown",
      "metadata": {
        "id": "plQyEPq-fs0f"
      },
      "source": [
        "## 3. Modèle de forêt"
      ]
    },
    {
      "cell_type": "markdown",
      "metadata": {
        "id": "FX4YvJG5fs0f"
      },
      "source": [
        "3.1 Réalisez un algorithme de Random Forest sur les données. Utiliser 500 arbres et une profondeur de 6."
      ]
    },
    {
      "cell_type": "code",
      "execution_count": null,
      "metadata": {
        "id": "m7s-e5QJfs0f"
      },
      "outputs": [],
      "source": []
    },
    {
      "cell_type": "markdown",
      "metadata": {
        "id": "S0yKYC3pfs0f"
      },
      "source": [
        "3.2 Afficher trois arbres au hasard."
      ]
    },
    {
      "cell_type": "code",
      "execution_count": null,
      "metadata": {
        "id": "I9R9AvBEfs0g"
      },
      "outputs": [],
      "source": [
        "from random import randint\n"
      ]
    },
    {
      "cell_type": "markdown",
      "metadata": {
        "id": "jLFKnbzRfs0g"
      },
      "source": [
        "3.3 Mesurer la précision du modèle Random Forest sur les données de dev"
      ]
    },
    {
      "cell_type": "code",
      "execution_count": null,
      "metadata": {
        "id": "bmi5EiRGfs0g"
      },
      "outputs": [],
      "source": []
    },
    {
      "cell_type": "markdown",
      "metadata": {
        "id": "a-xCat4jfs0g"
      },
      "source": [
        "## 4. optimisation des paramètres"
      ]
    },
    {
      "cell_type": "markdown",
      "metadata": {
        "id": "sGLzasFIfs0g"
      },
      "source": [
        "4.1 chercher l'ensembles de données la meilleure combinaison sur max_depth/n_estimator.\n",
        "\n",
        "Afficher les paramètre du modèle et a précision obtenue.\n",
        "\n",
        "Réexécuter un apprentissage avec la meilleure combinaison.\n"
      ]
    },
    {
      "cell_type": "code",
      "execution_count": null,
      "metadata": {
        "id": "OPmhwjtYfs0g"
      },
      "outputs": [],
      "source": [
        "from sklearn.model_selection import GridSearchCV\n"
      ]
    },
    {
      "cell_type": "markdown",
      "metadata": {
        "id": "GXBIKwD-fs0g"
      },
      "source": [
        "4.2 Afficher les paramètres optimaux et la précisions obtenue sur les données dev"
      ]
    },
    {
      "cell_type": "code",
      "execution_count": null,
      "metadata": {
        "id": "liGW79uofs0g"
      },
      "outputs": [],
      "source": []
    },
    {
      "cell_type": "markdown",
      "metadata": {
        "id": "ZjsUolGJfs0g"
      },
      "source": [
        "4.3 Classer et Afficher les caractéristiques d'importance supérieure à 1%"
      ]
    },
    {
      "cell_type": "code",
      "execution_count": null,
      "metadata": {
        "id": "Oah43f3qfs0g"
      },
      "outputs": [],
      "source": []
    },
    {
      "cell_type": "markdown",
      "metadata": {
        "id": "DhREhHhAfs0g"
      },
      "source": [
        "## 5. Stacking\n",
        "\n",
        "Essayer différents modèles d'estimateur final"
      ]
    },
    {
      "cell_type": "code",
      "execution_count": null,
      "metadata": {
        "id": "Egy9pCUxfs0g"
      },
      "outputs": [],
      "source": [
        "from sklearn.pipeline import make_pipeline\n",
        "from sklearn.preprocessing import StandardScaler\n",
        "from sklearn.svm import SVC\n",
        "from sklearn.linear_model import LogisticRegression\n",
        "from sklearn.naive_bayes import GaussianNB\n",
        "from sklearn.linear_model import Perceptron\n",
        "from sklearn.ensemble import StackingClassifier\n"
      ]
    },
    {
      "cell_type": "markdown",
      "metadata": {
        "id": "M5U1908zfs0h"
      },
      "source": [
        "## 6. Gradient Boosting"
      ]
    },
    {
      "cell_type": "markdown",
      "metadata": {
        "id": "tsxLE7eXfs0h"
      },
      "source": [
        "6. Exécuter un apprentissage de Gradient Boosting avec et sans \"Early Stopping\" sur le nombre d'estimateurs. Comparer avec le résultat sur les données dev."
      ]
    },
    {
      "cell_type": "code",
      "execution_count": null,
      "metadata": {
        "id": "iLmoTRx2fs0h"
      },
      "outputs": [],
      "source": []
    },
    {
      "cell_type": "markdown",
      "metadata": {
        "id": "EB0EA6m0fs0h"
      },
      "source": [
        "## 7. (Optionnel) Recommencer les exercices précédents en utilisant les \"ordinal encoders\". Que remarquez-vous ?"
      ]
    }
  ],
  "metadata": {
    "kernelspec": {
      "display_name": "Python 3",
      "language": "python",
      "name": "python3"
    },
    "language_info": {
      "codemirror_mode": {
        "name": "ipython",
        "version": 3
      },
      "file_extension": ".py",
      "mimetype": "text/x-python",
      "name": "python",
      "nbconvert_exporter": "python",
      "pygments_lexer": "ipython3",
      "version": "3.12.4"
    },
    "orig_nbformat": 4,
    "colab": {
      "provenance": []
    }
  },
  "nbformat": 4,
  "nbformat_minor": 0
}